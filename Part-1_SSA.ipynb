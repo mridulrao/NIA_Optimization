{
 "cells": [
  {
   "cell_type": "code",
   "execution_count": 1,
   "id": "6d5977e8",
   "metadata": {},
   "outputs": [],
   "source": [
    "import numpy as np\n",
    "import pandas as pd\n",
    "import matplotlib.pyplot as plt\n",
    "import math\n",
    "from scipy.stats import norm\n",
    "import random"
   ]
  },
  {
   "cell_type": "code",
   "execution_count": 2,
   "id": "0ad3a20c",
   "metadata": {},
   "outputs": [],
   "source": [
    "from tensorflow.keras.preprocessing.text import Tokenizer\n",
    "from tensorflow.keras.preprocessing.sequence import pad_sequences\n",
    "from tensorflow.keras.models import Sequential\n",
    "from tensorflow.keras.layers import LSTM,Dense,Dropout,Embedding,Bidirectional, Conv1D, Flatten\n",
    "from tensorflow.keras.optimizers import Adam"
   ]
  },
  {
   "cell_type": "code",
   "execution_count": 3,
   "id": "4b5bec54",
   "metadata": {},
   "outputs": [],
   "source": [
    "from tqdm import tqdm"
   ]
  },
  {
   "cell_type": "code",
   "execution_count": 8,
   "id": "e7e1a499",
   "metadata": {},
   "outputs": [
    {
     "data": {
      "text/plain": [
       "1"
      ]
     },
     "execution_count": 8,
     "metadata": {},
     "output_type": "execute_result"
    }
   ],
   "source": [
    "random.randint(1, 5)"
   ]
  },
  {
   "cell_type": "code",
   "execution_count": 9,
   "id": "1403df42",
   "metadata": {},
   "outputs": [
    {
     "data": {
      "text/plain": [
       "0.022099999999999998"
      ]
     },
     "execution_count": 9,
     "metadata": {},
     "output_type": "execute_result"
    }
   ],
   "source": [
    "0.0001 + (0.01+0.001)*random.randint(1, 5)"
   ]
  },
  {
   "cell_type": "code",
   "execution_count": 20,
   "id": "a5d813a8",
   "metadata": {},
   "outputs": [
    {
     "data": {
      "text/plain": [
       "0.0034102445946021364"
      ]
     },
     "execution_count": 20,
     "metadata": {},
     "output_type": "execute_result"
    }
   ],
   "source": [
    "np.random.uniform(0.0001, 0.01)"
   ]
  },
  {
   "cell_type": "code",
   "execution_count": 38,
   "id": "8b3fbffe",
   "metadata": {},
   "outputs": [
    {
     "data": {
      "text/plain": [
       "array([[0, 1, 2, 3, 4],\n",
       "       [0, 1, 2, 3, 4]])"
      ]
     },
     "execution_count": 38,
     "metadata": {},
     "output_type": "execute_result"
    }
   ],
   "source": [
    "X = np.array([range(5),range(5)])\n",
    "X"
   ]
  },
  {
   "cell_type": "code",
   "execution_count": 39,
   "id": "8c2424c2",
   "metadata": {},
   "outputs": [
    {
     "data": {
      "text/plain": [
       "array([[100,   1,   2,   3,   4],\n",
       "       [  0,   1,   2,   3,   4]])"
      ]
     },
     "execution_count": 39,
     "metadata": {},
     "output_type": "execute_result"
    }
   ],
   "source": [
    "X[0][0] = 100\n",
    "X"
   ]
  },
  {
   "cell_type": "code",
   "execution_count": 45,
   "id": "aaad6703",
   "metadata": {},
   "outputs": [
    {
     "name": "stdout",
     "output_type": "stream",
     "text": [
      "[[0. 0. 0. 0. 0.]\n",
      " [0. 0. 0. 0. 0.]\n",
      " [0. 0. 0. 0. 0.]\n",
      " [0. 0. 0. 0. 0.]\n",
      " [0. 0. 0. 0. 0.]\n",
      " [0. 0. 0. 0. 0.]\n",
      " [0. 0. 0. 0. 0.]\n",
      " [0. 0. 0. 0. 0.]\n",
      " [0. 0. 0. 0. 0.]\n",
      " [0. 0. 0. 0. 0.]]\n",
      "[[100.   0.   0.   0.   0.]\n",
      " [  0.   0.   0.   0.   0.]\n",
      " [  0.   0.   0.   0.   0.]\n",
      " [  0.   0.   0.   0.   0.]\n",
      " [  0.   0.   0.   0.   0.]\n",
      " [  0.   0.   0.   0.   0.]\n",
      " [  0.   0.   0.   0.   0.]\n",
      " [  0.   0.   0.   0.   0.]\n",
      " [  0.   0.   0.   0.   0.]\n",
      " [  0.   0.   0.   0.   0.]]\n"
     ]
    }
   ],
   "source": [
    "x = np.zeros(50)\n",
    "x = x.reshape(10, 5)\n",
    "print(x)\n",
    "x[0][0] = 100\n",
    "print(x)"
   ]
  },
  {
   "cell_type": "code",
   "execution_count": 46,
   "id": "984c66ad",
   "metadata": {},
   "outputs": [],
   "source": [
    "def initialize_populations(lower_bound, upper_bound, population, dimension): \n",
    "    bird_positions = np.zeros(population*dimension)\n",
    "    bird_positions = bird_positions.reshape(population, dimension)\n",
    "    for i in range(len(lower_bound)):\n",
    "        lower = lower_bound[i]\n",
    "        upper = upper_bound[i]\n",
    "        col = []\n",
    "        for j in range(population):\n",
    "            pos = np.random.uniform(lower, upper)\n",
    "            bird_positions[j, i] = pos\n",
    "        \n",
    "    \n",
    "    return bird_positions"
   ]
  },
  {
   "cell_type": "code",
   "execution_count": 49,
   "id": "18e7a403",
   "metadata": {},
   "outputs": [
    {
     "name": "stdout",
     "output_type": "stream",
     "text": [
      "[[5.29849647e-03 3.42217392e+00 4.24222806e+00 2.08865374e+00]\n",
      " [8.44899149e-03 8.33550991e+00 1.00044734e+01 1.12355889e+00]\n",
      " [8.20791773e-03 2.25596938e+00 1.72199676e+01 2.58474028e+00]\n",
      " [7.60453324e-03 1.87136941e+01 1.36088408e+01 3.32586470e+00]\n",
      " [7.89017699e-03 6.90286297e+00 1.68527702e+01 4.83141563e+00]\n",
      " [9.48860906e-03 1.18993855e+01 3.33973379e+00 4.09943722e+00]\n",
      " [7.11474947e-03 1.67144144e+01 1.65874037e+00 1.88536840e+00]\n",
      " [4.76534821e-03 2.18789390e+00 1.24513022e+01 1.11045065e+00]\n",
      " [7.36524168e-03 1.13259194e+01 1.12339347e+01 2.56292151e+00]\n",
      " [3.69252529e-03 1.27418041e+01 2.79808056e+00 2.54673042e+00]]\n"
     ]
    }
   ],
   "source": [
    "lower_bound = [0.0001, 1, 1, 1]\n",
    "upper_bound = [0.01, 20, 20, 5]\n",
    "\n",
    "population = 10\n",
    "dimension = 4\n",
    "\n",
    "pop = initialize_populations(lower_bound, upper_bound, population, dimension)\n",
    "print(pop)"
   ]
  },
  {
   "cell_type": "code",
   "execution_count": 99,
   "id": "9b0f36f7",
   "metadata": {},
   "outputs": [],
   "source": [
    "def compare_mse(mse):\n",
    "    bird_ranking = {}\n",
    "    for i in range(len(mse)):\n",
    "        bird_ranking[i] = mse[i]\n",
    "        \n",
    "    arranged_bird_ranking = list(dict(sorted(bird_ranking.items(), key=lambda x:x[1])).keys())\n",
    "    return arranged_bird_ranking"
   ]
  },
  {
   "cell_type": "code",
   "execution_count": 100,
   "id": "e0b7c2fe",
   "metadata": {},
   "outputs": [
    {
     "name": "stdout",
     "output_type": "stream",
     "text": [
      "[0, 4, 3, 5, 1, 2]\n"
     ]
    }
   ],
   "source": [
    "mse = [1, 6, 9, 3, 2, 4]\n",
    "ranking = compare_mse(mse)\n",
    "print(ranking)"
   ]
  },
  {
   "cell_type": "code",
   "execution_count": 101,
   "id": "5c329045",
   "metadata": {},
   "outputs": [],
   "source": [
    "def decide_updation(ranking):\n",
    "    producers = ranking[0:2]\n",
    "    monitors = ranking[2:4]\n",
    "    scavengers = ranking[4:]\n",
    "    \n",
    "    return producers, monitors, scavengers"
   ]
  },
  {
   "cell_type": "code",
   "execution_count": 103,
   "id": "396e9b77",
   "metadata": {},
   "outputs": [
    {
     "name": "stdout",
     "output_type": "stream",
     "text": [
      "([1, 2], [3, 4], [5, 6, 7, 8, 9, 10])\n"
     ]
    }
   ],
   "source": [
    "ranking = [1, 2, 3, 4, 5, 6, 7, 8, 9, 10]\n",
    "print(decide_updation(ranking))"
   ]
  },
  {
   "cell_type": "code",
   "execution_count": 158,
   "id": "1a0b058f",
   "metadata": {},
   "outputs": [],
   "source": [
    "def update_producers(alpha, max_iter, Q, L, bird_index, dimension, alarm_value, safety_threshold, bird_matrix):\n",
    "    new_bird_position = []\n",
    "    for j in range(dimension):\n",
    "        pos = bird_matrix[bird_index][j]\n",
    "        L_pos = L[j]\n",
    "        if alarm_value < safety_threshold:\n",
    "            exp = np.exp((-i)/(alpha*max_iter))\n",
    "            new_pos = pos*exp\n",
    "        else:\n",
    "            new_pos = pos + Q*L_pos\n",
    "    \n",
    "        new_bird_position.append(new_pos)\n",
    "        \n",
    "    return new_bird_position\n",
    "                         "
   ]
  },
  {
   "cell_type": "code",
   "execution_count": 159,
   "id": "2fd5caf2",
   "metadata": {},
   "outputs": [
    {
     "name": "stdout",
     "output_type": "stream",
     "text": [
      "[0.0002001367034876569, 0.36152421318312306, 4.229222396880705, 3.6293040976697717, 7.440668312994891]\n"
     ]
    }
   ],
   "source": [
    "alpha = np.random.uniform()\n",
    "max_iter = 5\n",
    "Q = np.random.normal()\n",
    "L = np.ones(5)\n",
    "bird_index = 0\n",
    "dimension = 5\n",
    "alarm_value = 0.4 #np.random.uniform(0,1.1)\n",
    "safety_threshold = 0.6 #np.random.uniform(0.5,1.1)\n",
    "bird_matrix = population\n",
    "\n",
    "new_pos = update_producers(alpha=alpha, max_iter=max_iter, Q=Q, L=L, bird_index=bird_index, dimension=dimension,\n",
    "                           alarm_value=alarm_value, safety_threshold=safety_threshold, bird_matrix=bird_matrix)\n",
    "\n",
    "print(new_pos)"
   ]
  },
  {
   "cell_type": "code",
   "execution_count": 160,
   "id": "82826bee",
   "metadata": {},
   "outputs": [
    {
     "name": "stdout",
     "output_type": "stream",
     "text": [
      "[0.3447398934469443, 4.065056275639939, 43.88820079006087, 37.71123661353281, 76.95434730498809]\n"
     ]
    }
   ],
   "source": [
    "alpha = np.random.uniform()\n",
    "max_iter = 5\n",
    "Q = np.random.normal()\n",
    "L = np.ones(5)\n",
    "bird_index = 0\n",
    "dimension = 5\n",
    "alarm_value = 0.7 #np.random.uniform(0,1.1)\n",
    "safety_threshold = 0.6 #np.random.uniform(0.5,1.1)\n",
    "bird_matrix = population\n",
    "\n",
    "new_pos = update_producers(alpha=alpha, max_iter=max_iter, Q=Q, L=L, bird_index=bird_index, dimension=dimension,\n",
    "                           alarm_value=alarm_value, safety_threshold=safety_threshold, bird_matrix=bird_matrix)\n",
    "\n",
    "print(new_pos)"
   ]
  },
  {
   "cell_type": "code",
   "execution_count": 150,
   "id": "f40a5565",
   "metadata": {},
   "outputs": [],
   "source": [
    "#Chinese github = np.dot(np.abs(pos - optimal_pos), A_plus)*L\n",
    "\n",
    "#Mealpy Github = np.abs(pos - optimal_pos)*np.random.uniform()\n",
    "\n",
    "def update_scrounger(Q, worst_bird, bird_index, total_birds, best_bird, A_plus, L, bird_matrix, dimension):\n",
    "    new_bird_position = []\n",
    "    for j in range(dimension):\n",
    "        pos = bird_matrix[bird_index][j]\n",
    "        worst_bird_pos = worst_bird[j]\n",
    "        optimal_pos = best_bird[j]\n",
    "        if bird_index > (total_birds/2):\n",
    "            exp = np.exp(((worst_bird_pos - pos)/bird_index**2))\n",
    "            new_pos = Q*exp\n",
    "        else:\n",
    "            new_pos = optimal_pos + np.dot(np.dot(np.abs(pos - optimal_pos), A_plus),L)\n",
    "            \n",
    "        new_bird_position.append(new_pos)\n",
    "        \n",
    "    return new_bird_position"
   ]
  },
  {
   "cell_type": "code",
   "execution_count": 151,
   "id": "6ebffa95",
   "metadata": {},
   "outputs": [
    {
     "name": "stdout",
     "output_type": "stream",
     "text": [
      "[0.002060676011179666, 4.714397697666527, 43.545521572625105, 37.368557396097046, 88.73470773158375]\n"
     ]
    }
   ],
   "source": [
    "Q = np.random.normal()\n",
    "worst_bird = population[8]\n",
    "bird_index = 0\n",
    "total_birds = 10\n",
    "best_bird = population[2]\n",
    "L = np.ones(5)\n",
    "A_plus = 1/(np.transpose(L)*np.dot(L, np.transpose(L)))\n",
    "bird_matrix = population\n",
    "dimension = 5\n",
    "\n",
    "new_pos = update_scrounger(Q=Q, worst_bird=worst_bird, bird_index=bird_index, total_birds=total_birds,\n",
    "                           best_bird=best_bird, A_plus=A_plus, L=L, bird_matrix=bird_matrix, dimension=dimension)\n",
    "\n",
    "print(new_pos)"
   ]
  },
  {
   "cell_type": "code",
   "execution_count": 152,
   "id": "c85a8299",
   "metadata": {},
   "outputs": [
    {
     "name": "stdout",
     "output_type": "stream",
     "text": [
      "[-1.6198494570875535, -1.6677462326529375, -2.012654702734999, -1.5220215397711028, -2.0124100655471815]\n"
     ]
    }
   ],
   "source": [
    "Q = np.random.normal()\n",
    "worst_bird = population[8]\n",
    "bird_index = 7\n",
    "total_birds = 10\n",
    "best_bird = population[2]\n",
    "L = np.ones(5)\n",
    "A_plus = 1/(np.transpose(L)*np.dot(L, np.transpose(L)))\n",
    "bird_matrix = population\n",
    "dimension = 5\n",
    "\n",
    "new_pos = update_scrounger(Q=Q, worst_bird=worst_bird, bird_index=bird_index, total_birds=total_birds,\n",
    "                           best_bird=best_bird, A_plus=A_plus, L=L, bird_matrix=bird_matrix, dimension=dimension)\n",
    "\n",
    "print(new_pos)"
   ]
  },
  {
   "cell_type": "code",
   "execution_count": 35,
   "id": "c771b244",
   "metadata": {},
   "outputs": [],
   "source": [
    "#the min the fitness val, better will be the positioning\n",
    "\n",
    "def update_monitor(best_bird, beta, bird_index, K, worst_bird, fitness_matrix, epsillon, dimension, bird_matrix):\n",
    "    new_bird_position = []\n",
    "    current_bird = bird_matrix[bird_index]\n",
    "    current_bird_fitness = fitness_matrix[bird_index][0]\n",
    "    best_fitness = min(fitness_matrix)[0]\n",
    "    worst_fitness = max(fitness_matrix)[0]\n",
    "    for j in range(dimension):\n",
    "        best_bird_pos = best_bird[j]\n",
    "        worst_bird_pos = worst_bird[j]\n",
    "        current_bird_pos = current_bird[j]       \n",
    "        if current_bird_fitness > best_fitness:\n",
    "            print(\"First condition\")\n",
    "            new_pos = best_bird_pos + beta*np.abs(current_bird_pos - best_bird_pos)  \n",
    "        else:\n",
    "            print(\"Other Condition\")\n",
    "            mul_val = np.abs(current_bird_pos - worst_bird_pos)/((current_bird_fitness-worst_fitness)+epsillon)\n",
    "            new_pos = current_bird_pos + K*mul_val\n",
    "        \n",
    "        new_bird_position.append(new_pos)\n",
    "    \n",
    "    return new_bird_position"
   ]
  },
  {
   "cell_type": "code",
   "execution_count": 36,
   "id": "95012603",
   "metadata": {},
   "outputs": [
    {
     "name": "stdout",
     "output_type": "stream",
     "text": [
      "First condition\n",
      "First condition\n",
      "First condition\n",
      "First condition\n",
      "First condition\n",
      "[0.009805365143715447, 3.9802087598362377, 52.516029906356565, 39.32509991649552, 83.37393700387278]\n"
     ]
    }
   ],
   "source": [
    "best_bird = population[0]\n",
    "beta = np.random.uniform(-1, 1)\n",
    "bird_index = 4\n",
    "K = np.random.uniform(-1, 1)\n",
    "worst_bird = population[2]\n",
    "fitness_matrix = initial_mse\n",
    "epsillon = 0.0000001\n",
    "dimesion = 5\n",
    "bird_matrix = population\n",
    "\n",
    "new_pos = update_monitor(best_bird=best_bird, beta=beta, bird_index=bird_index, K=K, worst_bird=worst_bird, \n",
    "                         fitness_matrix=fitness_matrix, epsillon=epsillon, dimension=dimension, bird_matrix=bird_matrix)\n",
    "\n",
    "print(new_pos)"
   ]
  },
  {
   "cell_type": "code",
   "execution_count": 37,
   "id": "3a76359f",
   "metadata": {},
   "outputs": [
    {
     "name": "stdout",
     "output_type": "stream",
     "text": [
      "Other Condition\n",
      "Other Condition\n",
      "Other Condition\n",
      "Other Condition\n",
      "Other Condition\n",
      "[0.008348216766626497, 5.855174794006461, 59.956752548201614, 94.68206735273557, 154.87166545781835]\n"
     ]
    }
   ],
   "source": [
    "best_bird = population[0]\n",
    "beta = np.random.uniform(-1, 1)\n",
    "bird_index = 8\n",
    "K = np.random.uniform(-1, 1)\n",
    "worst_bird = population[2]\n",
    "fitness_matrix = initial_mse\n",
    "epsillon = 0.0000001\n",
    "dimesion = 5\n",
    "bird_matrix = population\n",
    "\n",
    "new_pos = update_monitor(best_bird=best_bird, beta=beta, bird_index=bird_index, K=K, worst_bird=worst_bird, \n",
    "                         fitness_matrix=fitness_matrix, epsillon=epsillon, dimension=dimension, bird_matrix=bird_matrix)\n",
    "\n",
    "print(new_pos)"
   ]
  },
  {
   "cell_type": "code",
   "execution_count": 83,
   "id": "526a9311",
   "metadata": {},
   "outputs": [
    {
     "name": "stdout",
     "output_type": "stream",
     "text": [
      "[ 1 -1 -1 -1  1]\n"
     ]
    }
   ],
   "source": [
    "b = np.array(list(map(lambda x: str(x).replace('0', '1'), np.random.randint(-1, 1, size=(5))))).astype('int64')\n",
    "print(b)"
   ]
  },
  {
   "cell_type": "code",
   "execution_count": null,
   "id": "3e3c9dc1",
   "metadata": {},
   "outputs": [],
   "source": [
    "def find_best_worst_bird(self, population, mse):\n",
    "    worst_bird = mse.index(max(mse))\n",
    "    best_bird = mse.index(min(mse))\n",
    "    \n",
    "    worst_bird_location = population[worst_bird]\n",
    "    best_bird_location = population[best_bird]\n",
    "    \n",
    "    return worst_bird_location, best_bird_location"
   ]
  },
  {
   "cell_type": "code",
   "execution_count": 151,
   "id": "4a6ed1db",
   "metadata": {},
   "outputs": [
    {
     "name": "stdout",
     "output_type": "stream",
     "text": [
      "[[1.44462943e-03 3.87823697e+00 8.75998912e+00 2.26717653e+00]\n",
      " [9.64561694e-03 6.34561335e+00 1.40961549e+01 3.81759985e+00]\n",
      " [4.44533705e-03 1.50774171e+01 1.58522524e+01 2.51182355e+00]\n",
      " [1.45810388e-03 1.84785625e+01 2.18022049e+00 4.05904748e+00]\n",
      " [1.57454801e-03 3.07803036e+00 8.34470365e+00 3.34034316e+00]\n",
      " [9.66552960e-03 9.06037827e+00 6.24624874e+00 1.59044616e+00]\n",
      " [1.98970780e-03 8.11266354e+00 1.40493982e+01 2.11069477e+00]\n",
      " [6.94170774e-03 1.24713470e+01 9.70350651e+00 4.73838505e+00]\n",
      " [4.63714011e-03 1.36146292e+01 1.11848900e+01 3.37530815e+00]\n",
      " [6.99068576e-04 1.43932640e+00 4.63839036e+00 4.91848240e+00]]\n"
     ]
    }
   ],
   "source": [
    "def initialize_populations(lower_bound, upper_bound, population, dimension): \n",
    "    bird_positions = np.zeros(population*dimension)\n",
    "    bird_positions = bird_positions.reshape(population, dimension)\n",
    "    for i in range(len(lower_bound)):\n",
    "        lower = lower_bound[i]\n",
    "        upper = upper_bound[i]\n",
    "        col = []\n",
    "        for j in range(population):\n",
    "            pos = np.random.uniform(lower, upper)\n",
    "            bird_positions[j, i] = pos\n",
    "        \n",
    "    \n",
    "    return bird_positions\n",
    "\n",
    "lower_bound = [0.0001, 1, 1, 1]\n",
    "upper_bound = [0.01, 20, 20, 5]\n",
    "\n",
    "population = 10\n",
    "dimension = 4\n",
    "\n",
    "pop = initialize_populations(lower_bound, upper_bound, population, dimension)\n",
    "print(pop)"
   ]
  },
  {
   "cell_type": "code",
   "execution_count": 152,
   "id": "e42745b0",
   "metadata": {},
   "outputs": [
    {
     "name": "stdout",
     "output_type": "stream",
     "text": [
      "True\n",
      "0.0014446294345966055\n",
      "True\n",
      "3.878236968875145\n",
      "True\n",
      "8.759989115828681\n",
      "True\n",
      "2.2671765282729965\n"
     ]
    }
   ],
   "source": [
    "new_pos = pop[0]\n",
    "lower_bound = [0.0001, 1, 1, 1, 1]\n",
    "upper_bound = [0.01, 20, 20, 5, 50]\n",
    "\n",
    "for i in range(len(new_pos)):\n",
    "    \n",
    "    condition = np.logical_and(lower_bound[i] <= new_pos[i], new_pos[i] <= upper_bound[i])\n",
    "    pos_rand = np.random.uniform(lower_bound[i], upper_bound[i])\n",
    "    print(condition)\n",
    "    print(np.where(condition, new_pos[i], pos_rand))"
   ]
  },
  {
   "cell_type": "markdown",
   "id": "93c41840",
   "metadata": {},
   "source": [
    "# Connecting SSA and Model"
   ]
  },
  {
   "cell_type": "code",
   "execution_count": 206,
   "id": "a30f4b9e",
   "metadata": {},
   "outputs": [],
   "source": [
    "class SSA_new():\n",
    "    def __init__(self, total_birds, dimension, maximum_iterations):\n",
    "        print(\"Inititializing parameters\")\n",
    "        #basic paramters \n",
    "        self.dimension = dimension\n",
    "        self.total_birds = total_birds\n",
    "        #update producer\n",
    "        self.alpha = np.random.uniform(0, 1)\n",
    "        self.T = maximum_iterations\n",
    "        self.Q = np.random.normal()\n",
    "        self.L = np.ones(dimension)\n",
    "        self.alarm_value = np.random.uniform(0, 1)\n",
    "        self.safety_threshold = np.random.uniform(0.5, 1)\n",
    "        #update scrounger\n",
    "        self.A = np.array(list(map(lambda x: str(x).replace('0', '1'), np.random.randint(-1, 1, size=(dimension))))).astype('int64')\n",
    "        #update monitor\n",
    "        self.beta = np.random.uniform(-1, 1)\n",
    "        self.K = np.random.uniform(-1, 1)\n",
    "        self.epsillon = 0.0000001\n",
    "        \n",
    "    def initialize_populations(self, lower_bound, upper_bound): \n",
    "        bird_positions = np.zeros(self.total_birds*self.dimension)\n",
    "        bird_positions = bird_positions.reshape(self.total_birds, self.dimension)\n",
    "        for i in range(len(lower_bound)):\n",
    "            lower = lower_bound[i]\n",
    "            upper = upper_bound[i]\n",
    "            col = []\n",
    "            for j in range(self.total_birds):\n",
    "                pos = np.random.uniform(lower, upper)\n",
    "                bird_positions[j, i] = pos\n",
    "        \n",
    "    \n",
    "        return bird_positions\n",
    "    \n",
    "    def compare_mse_and_decide_updation(self, mse):\n",
    "        bird_ranking = {}\n",
    "        for i in range(len(mse)):\n",
    "            bird_ranking[i] = mse[i]\n",
    "        \n",
    "        arranged_bird_ranking = list(dict(sorted(bird_ranking.items(), key=lambda x:x[1])).keys())\n",
    "        producers = arranged_bird_ranking[0:2]\n",
    "        monitors = arranged_bird_ranking[2:4]\n",
    "        scroungers = arranged_bird_ranking[4:]\n",
    "    \n",
    "        return producers, monitors, scroungers\n",
    "    \n",
    "    def check_limits(self, new_pos, lower_bound, upper_bound):\n",
    "        condition = np.logical_and(lower_bound <= new_pos, new_pos <= upper_bound)\n",
    "        pos_rand = np.random.uniform(lower_bound, upper_bound)\n",
    "        return np.where(condition, new_pos, pos_rand)\n",
    "    \n",
    "    def find_best_worst_bird(self, population, mse):\n",
    "        worst_bird = mse.index(max(mse))\n",
    "        best_bird = mse.index(min(mse))\n",
    "    \n",
    "        worst_bird_location = population[worst_bird]\n",
    "        best_bird_location = population[best_bird]\n",
    "    \n",
    "        return worst_bird_location, best_bird_location\n",
    "    \n",
    "    def update_producers(self, bird_index, bird_matrix):\n",
    "        new_bird_position = []\n",
    "        for j in range(self.dimension):\n",
    "            pos = bird_matrix[bird_index][j]\n",
    "            L_pos = self.L[j]\n",
    "            if self.alarm_value < self.safety_threshold:\n",
    "                exp = np.exp((-i)/(self.alpha*self.T))\n",
    "                new_pos = pos*exp\n",
    "            else:\n",
    "                new_pos = pos + self.Q*L_pos\n",
    "    \n",
    "            new_bird_position.append(new_pos)\n",
    "        \n",
    "        return np.array(new_bird_position)\n",
    "    \n",
    "    \n",
    "    def update_scrounger(self, worst_bird, bird_index, best_bird, bird_matrix):\n",
    "        new_bird_position = []\n",
    "        for j in range(self.dimension):\n",
    "            pos = bird_matrix[bird_index][j]\n",
    "            worst_bird_pos = worst_bird[j]\n",
    "            optimal_pos = best_bird[j]\n",
    "            if bird_index > (self.total_birds/2):\n",
    "                exp = np.exp(((worst_bird_pos - pos)/bird_index**2))\n",
    "                new_pos = self.Q*exp\n",
    "            else:\n",
    "                A_plus = 1/(np.transpose(self.A)*np.dot(self.L, np.transpose(self.A)))\n",
    "                new_pos = optimal_pos + np.dot(np.dot(np.abs(pos - optimal_pos), A_plus),self.L)\n",
    "            \n",
    "            new_bird_position.append(new_pos)\n",
    "        \n",
    "        return np.array(new_bird_position)\n",
    "    \n",
    "    def update_monitor(self, best_bird, bird_index, worst_bird, fitness_matrix, bird_matrix):\n",
    "        new_bird_position = []\n",
    "        current_bird = bird_matrix[bird_index]\n",
    "        current_bird_fitness = fitness_matrix[bird_index][0]\n",
    "        best_fitness = min(fitness_matrix)[0]\n",
    "        worst_fitness = max(fitness_matrix)[0]\n",
    "        for j in range(self.dimension):\n",
    "            best_bird_pos = best_bird[j]\n",
    "            worst_bird_pos = worst_bird[j]\n",
    "            current_bird_pos = current_bird[j]       \n",
    "            if current_bird_fitness > best_fitness:\n",
    "                new_pos = best_bird_pos + self.beta*np.abs(current_bird_pos - best_bird_pos)  \n",
    "            else:\n",
    "                mul_val = np.abs(current_bird_pos - worst_bird_pos)/((current_bird_fitness-worst_fitness)+self.epsillon)\n",
    "                new_pos = current_bird_pos + self.K*mul_val\n",
    "        \n",
    "            new_bird_position.append(new_pos)\n",
    "    \n",
    "        return np.array(new_bird_position)\n",
    "        "
   ]
  },
  {
   "cell_type": "code",
   "execution_count": 5,
   "id": "b0372fbe",
   "metadata": {},
   "outputs": [],
   "source": [
    "class SSA():\n",
    "    def __init__(self, n_dim, max_iter, lb, ub, pop_size):\n",
    "        self.n_dim = n_dim  #hyperparameters\n",
    "        self.pop = pop_size #no. of sparrow\n",
    "        self.producers = (20*pop_size)/100 #20% of population \n",
    "        self.monitors =  (20*pop_size)/100 #20% of population\n",
    "        self.scrounger = pop_size - self.producers - self.monitors\n",
    "        self.safety_threshold = 0.8\n",
    "        \n",
    "    def initialize_populations(self, lower_bound, upper_bound, population, dimension): \n",
    "        bird_positions = np.zeros(population*dimension)\n",
    "        bird_positions = bird_positions.reshape(population, dimension)\n",
    "        for i in range(len(lower_bound)):\n",
    "            lower = lower_bound[i]\n",
    "            upper = upper_bound[i]\n",
    "            col = []\n",
    "            for j in range(population):\n",
    "                pos = np.random.uniform(lower, upper)\n",
    "                bird_positions[j, i] = pos\n",
    "\n",
    "\n",
    "        return bird_positions\n",
    "        "
   ]
  },
  {
   "cell_type": "code",
   "execution_count": 198,
   "id": "37d691ad",
   "metadata": {},
   "outputs": [],
   "source": [
    "class Model():\n",
    "    def __init__(self, learning_rate, epochs, neuron_1, neuron_2, neuron_3):\n",
    "        self.learning_rate = learning_rate\n",
    "        self.epochs = epochs\n",
    "        self.neuron_1 = neuron_1\n",
    "        self.neuron_2 = neuron_2\n",
    "        self.neuron_3 = neuron_3\n",
    "        \n",
    "    def build_model(self, vocab_size, embedding_matrix):\n",
    "        model_2 = Sequential()\n",
    "        model_2.add(Embedding(vocab_size, 200, weights = [embedding_matrix], input_length = 1100, trainable = False))\n",
    "\n",
    "        model_2.add(Bidirectional(LSTM(self.neuron_1, return_sequences = True)))\n",
    "        model_2.add(Bidirectional(LSTM(self.neuron_2, return_sequences = True)))\n",
    "        model_2.add(Conv1D(self.neuron_3, 3, activation='tanh', padding = 'same'))\n",
    "        model_2.add(Flatten())\n",
    "\n",
    "        model_2.add(Dropout(0.2))\n",
    "\n",
    "        model_2.add(Dense(256,activation = 'tanh'))\n",
    "        model_2.add(Dense(256,activation = 'tanh'))\n",
    "        model_2.add(Dense(128,activation = 'tanh'))\n",
    "\n",
    "\n",
    "        model_2.add(Dense(1,activation = 'sigmoid'))\n",
    "        opt = Adam(learning_rate=self.learning_rate)\n",
    "        model_2.compile(loss='binary_crossentropy', optimizer=opt, metrics = ['accuracy'])\n",
    "        \n",
    "        return model_2\n",
    "    \n",
    "    def train_test_model(self, model, x_train, y_train, x_test, y_test):\n",
    "        history = model.fit(x_train, y_train, batch_size = 128, verbose = 1, epochs = self.epochs, validation_split = 0.2)\n",
    "        test_output = model.predict(x_test)\n",
    "        diff_square = []\n",
    "\n",
    "        for i in range(len(y_test)):\n",
    "            val = (y_test[i] - test_output[i][0])**2\n",
    "            diff_square.append(val)\n",
    "    \n",
    "        mse = sum(diff_square)/len(y_test)\n",
    "        return mse\n",
    "        "
   ]
  },
  {
   "cell_type": "code",
   "execution_count": 199,
   "id": "625c2d99",
   "metadata": {},
   "outputs": [],
   "source": [
    "class Dataset():\n",
    "    def generate_dataset_train(self):\n",
    "        df = pd.read_csv(\"sentiment_dataset_merged.csv\")\n",
    "        df = df.drop([\"Unnamed: 0\"], axis = 1)\n",
    "        x_vocab = df['Review']\n",
    "        embedding_vector = {}\n",
    "        f = open('glove.6B.200d.txt')\n",
    "        for line in tqdm(f):\n",
    "            value = line.split(' ')\n",
    "            word = value[0]\n",
    "            coef = np.array(value[1:],dtype = 'float32')\n",
    "            embedding_vector[word] = coef\n",
    "            \n",
    "        token = Tokenizer()\n",
    "        token.fit_on_texts(x_vocab)\n",
    "        \n",
    "        df_train = pd.read_csv(\"train_combined.csv\")\n",
    "        df_train = df_train.drop(['Unnamed: 0'], axis = 1)\n",
    "        \n",
    "        x_train = list(df_train['Review'])\n",
    "        y_train = df_train['Sentiment']\n",
    "        \n",
    "        x_filtered = []\n",
    "        y_filtered = []\n",
    "        for i in range(0, len(x_train)-1):\n",
    "            words = len(x_train[i].split())\n",
    "            if len(x_train[i].split()) < 1100:\n",
    "                x_filtered.append(x_train[i])\n",
    "                y_filtered.append(y_train[i])\n",
    "                \n",
    "        #vocab size\n",
    "        vocab_size = len(token.word_index)+1\n",
    "        \n",
    "        #x_train\n",
    "        seq = token.texts_to_sequences(x_filtered)\n",
    "        pad_seq = pad_sequences(seq, maxlen=1100, padding = 'post')\n",
    "        \n",
    "        #embedding_matrix\n",
    "        embedding_matrix = np.zeros((vocab_size,200))\n",
    "        for word,i in tqdm(token.word_index.items()):\n",
    "            embedding_value = embedding_vector.get(word)\n",
    "            if embedding_value is not None:\n",
    "                embedding_matrix[i] = embedding_value\n",
    "         \n",
    "        sentiment = {\n",
    "            \"Negative\" : 0,\n",
    "            \"Positive\" : 1\n",
    "        }\n",
    "\n",
    "        y_filtered_converted = []\n",
    "        for sent in y_filtered:\n",
    "            y_filtered_converted.append(sentiment[sent])\n",
    "         \n",
    "        #y_train\n",
    "        y_filtered_converted = np.int64(y_filtered_converted)\n",
    "        \n",
    "        return vocab_size, pad_seq, embedding_matrix, y_filtered_converted, token\n",
    "    \n",
    "    def generate_dataset_test(self, token):\n",
    "        df_test = pd.read_csv(\"test_combined.csv\")\n",
    "        df_test = df_test.drop(['Unnamed: 0'], axis = 1)\n",
    "        \n",
    "        x_test = df_test['Review']\n",
    "        y_test = list(df_test['Sentiment'])\n",
    "\n",
    "        x_test_filtered = []\n",
    "        y_test_filtered = []\n",
    "        for i in range(0, len(x_test)-1):\n",
    "            words = len(x_test[i].split())\n",
    "            if len(x_test[i].split()) < 1100:\n",
    "                x_test_filtered.append(x_test[i])\n",
    "                y_test_filtered.append(y_test[i])\n",
    "            \n",
    "        #x_test    \n",
    "        seq_test = token.texts_to_sequences(x_test_filtered)\n",
    "        pad_seq_test = pad_sequences(seq_test, maxlen=1100, padding = 'post')\n",
    "        \n",
    "        sentiment = {\n",
    "            \"Negative\" : 0,\n",
    "            \"Positive\" : 1\n",
    "        }\n",
    "\n",
    "        y_test_filtered_converted = []\n",
    "        for sent in y_test_filtered:\n",
    "            y_test_filtered_converted.append(sentiment[sent])\n",
    "            \n",
    "        #y_test    \n",
    "        y_test_filtered_converted = np.int64(y_test_filtered_converted)\n",
    "        \n",
    "        return pad_seq_test, y_test_filtered_converted"
   ]
  },
  {
   "cell_type": "markdown",
   "id": "e7608fea",
   "metadata": {},
   "source": [
    "# Call the classes "
   ]
  },
  {
   "cell_type": "code",
   "execution_count": 200,
   "id": "3316447b",
   "metadata": {},
   "outputs": [
    {
     "name": "stderr",
     "output_type": "stream",
     "text": [
      "400000it [00:07, 52210.28it/s]\n",
      "100%|███████████████████████████████| 120904/120904 [00:00<00:00, 582355.44it/s]\n"
     ]
    }
   ],
   "source": [
    "dataset = Dataset()\n",
    "vocab_size, x_train, embedding_matrix, y_train, token = dataset.generate_dataset_train()\n",
    "x_text, y_test = dataset.generate_dataset_test(token)"
   ]
  },
  {
   "cell_type": "code",
   "execution_count": 9,
   "id": "282fe8f1",
   "metadata": {},
   "outputs": [],
   "source": [
    "lower_bound = [0.0001, 1, 20, 20, 50]\n",
    "upper_bound = [0.01, 5, 50, 50, 100]\n",
    "\n",
    "population = 10\n",
    "dimension = 5\n",
    "\n",
    "\n",
    "ssa = SSA(dimension, 10, lower_bound, upper_bound, population)\n",
    "population = ssa.initialize_populations(lower_bound, upper_bound, population, dimension)"
   ]
  },
  {
   "cell_type": "code",
   "execution_count": 10,
   "id": "1fa80c0e",
   "metadata": {},
   "outputs": [
    {
     "name": "stdout",
     "output_type": "stream",
     "text": [
      "[[7.42941888e-03 2.46066488e+00 4.27421773e+01 3.44223157e+01\n",
      "  7.24400390e+01]\n",
      " [8.22917241e-04 3.16766235e+00 4.48662256e+01 4.60603448e+01\n",
      "  5.55948508e+01]\n",
      " [6.07902114e-03 2.96623780e+00 4.61375746e+01 4.42545946e+01\n",
      "  9.28096747e+01]\n",
      " [4.76027625e-03 1.64687250e+00 2.02482933e+01 2.76676339e+01\n",
      "  9.09529936e+01]\n",
      " [4.09734959e-03 4.59170024e+00 2.90351525e+01 4.12980675e+01\n",
      "  8.77739320e+01]\n",
      " [8.37029744e-03 4.19531256e+00 4.80896913e+01 2.13911798e+01\n",
      "  7.37367370e+01]\n",
      " [5.83755805e-03 4.60411252e+00 4.37853503e+01 4.86214919e+01\n",
      "  5.58063908e+01]\n",
      " [9.12668758e-03 4.85323020e+00 4.34500781e+01 2.43859888e+01\n",
      "  5.89234426e+01]\n",
      " [5.22359684e-03 1.87718805e+00 4.91077076e+01 2.52448251e+01\n",
      "  6.94140122e+01]\n",
      " [1.51054750e-03 3.38915146e+00 3.14304347e+01 3.86069332e+01\n",
      "  9.95348976e+01]]\n"
     ]
    }
   ],
   "source": [
    "print(population)"
   ]
  },
  {
   "cell_type": "code",
   "execution_count": 11,
   "id": "8f65a352",
   "metadata": {},
   "outputs": [
    {
     "data": {
      "text/plain": [
       "10"
      ]
     },
     "execution_count": 11,
     "metadata": {},
     "output_type": "execute_result"
    }
   ],
   "source": [
    "population.shape[0]"
   ]
  },
  {
   "cell_type": "code",
   "execution_count": 12,
   "id": "36025611",
   "metadata": {},
   "outputs": [
    {
     "name": "stderr",
     "output_type": "stream",
     "text": [
      "2023-01-29 19:46:43.439561: W tensorflow/core/platform/profile_utils/cpu_utils.cc:128] Failed to get CPU frequency: 0 Hz\n"
     ]
    },
    {
     "name": "stdout",
     "output_type": "stream",
     "text": [
      "Epoch 1/2\n",
      "157/157 [==============================] - 267s 2s/step - loss: 0.7586 - accuracy: 0.4993 - val_loss: 0.7011 - val_accuracy: 0.4946\n",
      "Epoch 2/2\n",
      "157/157 [==============================] - 269s 2s/step - loss: 0.6983 - accuracy: 0.4987 - val_loss: 0.7178 - val_accuracy: 0.4946\n",
      "[0.3655005]\n",
      "Epoch 1/3\n",
      "157/157 [==============================] - 310s 2s/step - loss: 0.5444 - accuracy: 0.7349 - val_loss: 0.5169 - val_accuracy: 0.7644\n",
      "Epoch 2/3\n",
      "157/157 [==============================] - 303s 2s/step - loss: 0.3832 - accuracy: 0.8304 - val_loss: 0.3931 - val_accuracy: 0.8259\n",
      "Epoch 3/3\n",
      "157/157 [==============================] - 297s 2s/step - loss: 0.3437 - accuracy: 0.8478 - val_loss: 0.3658 - val_accuracy: 0.8337\n",
      "[0.29538572]\n",
      "Epoch 1/2\n",
      "157/157 [==============================] - 314s 2s/step - loss: 0.7378 - accuracy: 0.5065 - val_loss: 0.6984 - val_accuracy: 0.5054\n",
      "Epoch 2/2\n",
      "157/157 [==============================] - 316s 2s/step - loss: 0.6997 - accuracy: 0.5006 - val_loss: 0.6947 - val_accuracy: 0.5054\n",
      "[0.21750739]\n",
      "157/157 [==============================] - 174s 1s/step - loss: 0.7458 - accuracy: 0.4954 - val_loss: 0.6938 - val_accuracy: 0.4946\n",
      "[0.26299053]\n",
      "Epoch 1/4\n",
      "157/157 [==============================] - 236s 1s/step - loss: 0.7299 - accuracy: 0.5020 - val_loss: 0.6931 - val_accuracy: 0.5054\n",
      "Epoch 2/4\n",
      "157/157 [==============================] - 232s 1s/step - loss: 0.6954 - accuracy: 0.5037 - val_loss: 0.6955 - val_accuracy: 0.5054\n",
      "Epoch 3/4\n",
      "157/157 [==============================] - 232s 1s/step - loss: 0.6979 - accuracy: 0.5067 - val_loss: 0.6967 - val_accuracy: 0.5054\n",
      "Epoch 4/4\n",
      "157/157 [==============================] - 233s 1s/step - loss: 0.6969 - accuracy: 0.5060 - val_loss: 0.6947 - val_accuracy: 0.4946\n",
      "[0.2737737]\n",
      "Epoch 1/4\n",
      "157/157 [==============================] - 255s 2s/step - loss: 0.7758 - accuracy: 0.4982 - val_loss: 0.6933 - val_accuracy: 0.4946\n",
      "Epoch 2/4\n",
      "157/157 [==============================] - 256s 2s/step - loss: 0.6992 - accuracy: 0.4981 - val_loss: 0.7075 - val_accuracy: 0.4946\n",
      "Epoch 3/4\n",
      "157/157 [==============================] - 258s 2s/step - loss: 0.6999 - accuracy: 0.4968 - val_loss: 0.6981 - val_accuracy: 0.5054\n",
      "Epoch 4/4\n",
      "157/157 [==============================] - 261s 2s/step - loss: 0.6986 - accuracy: 0.5050 - val_loss: 0.7051 - val_accuracy: 0.4946\n",
      "[0.32697344]\n",
      "Epoch 1/4\n",
      "157/157 [==============================] - 289s 2s/step - loss: 0.7379 - accuracy: 0.5036 - val_loss: 0.6931 - val_accuracy: 0.5054\n",
      "Epoch 2/4\n",
      "157/157 [==============================] - 285s 2s/step - loss: 0.7000 - accuracy: 0.4992 - val_loss: 0.6957 - val_accuracy: 0.5054\n",
      "Epoch 3/4\n",
      "157/157 [==============================] - 290s 2s/step - loss: 0.6974 - accuracy: 0.4973 - val_loss: 0.6931 - val_accuracy: 0.5054\n",
      "Epoch 4/4\n",
      "157/157 [==============================] - 288s 2s/step - loss: 0.7013 - accuracy: 0.4938 - val_loss: 0.7007 - val_accuracy: 0.4946\n",
      "[0.3092671]\n",
      "Epoch 1/4\n",
      "157/157 [==============================] - 227s 1s/step - loss: 0.7250 - accuracy: 0.4967 - val_loss: 0.6943 - val_accuracy: 0.5054\n",
      "Epoch 2/4\n",
      "157/157 [==============================] - 227s 1s/step - loss: 0.6997 - accuracy: 0.5020 - val_loss: 0.6932 - val_accuracy: 0.4946\n",
      "Epoch 3/4\n",
      "157/157 [==============================] - 224s 1s/step - loss: 0.6998 - accuracy: 0.4984 - val_loss: 0.6931 - val_accuracy: 0.5054\n",
      "Epoch 4/4\n",
      "157/157 [==============================] - 222s 1s/step - loss: 0.6998 - accuracy: 0.5023 - val_loss: 0.7007 - val_accuracy: 0.5054\n",
      "[0.18779376]\n",
      "157/157 [==============================] - 253s 2s/step - loss: 0.7384 - accuracy: 0.5001 - val_loss: 0.7064 - val_accuracy: 0.5054\n",
      "[0.17117453]\n",
      "Epoch 1/3\n",
      "157/157 [==============================] - 248s 2s/step - loss: 0.7238 - accuracy: 0.4999 - val_loss: 0.6928 - val_accuracy: 0.5084\n",
      "Epoch 2/3\n",
      "157/157 [==============================] - 243s 2s/step - loss: 0.6658 - accuracy: 0.5664 - val_loss: 0.5564 - val_accuracy: 0.6924\n",
      "Epoch 3/3\n",
      "157/157 [==============================] - 244s 2s/step - loss: 0.4616 - accuracy: 0.7888 - val_loss: 0.3838 - val_accuracy: 0.8355\n",
      "[0.4166136]\n"
     ]
    }
   ],
   "source": [
    "initial_mse = []\n",
    "for i in range(population.shape[0]):\n",
    "    learning_rate = population[i][0]\n",
    "    epochs = math.floor(population[i][1])\n",
    "    neuron_1 = math.floor(population[i][2])\n",
    "    neuron_2 = math.floor(population[i][3])\n",
    "    neuron_3 = math.floor(population[i][4])\n",
    "    \n",
    "    model = Model(learning_rate=learning_rate, epochs=epochs, neuron_1=neuron_1, neuron_2=neuron_2, neuron_3=neuron_3)\n",
    "    trial_model = model.build_model(vocab_size=vocab_size, embedding_matrix=embedding_matrix)\n",
    "    mse = model.train_test_model(model=trial_model, x_train=x_train, x_test=x_text, y_test=y_test, y_train=y_train)\n",
    "    \n",
    "    print(mse)\n",
    "    initial_mse.append(mse)"
   ]
  },
  {
   "cell_type": "code",
   "execution_count": 13,
   "id": "ab93d008",
   "metadata": {},
   "outputs": [
    {
     "data": {
      "text/plain": [
       "[array([0.3655005], dtype=float32),\n",
       " array([0.29538572], dtype=float32),\n",
       " array([0.21750739], dtype=float32),\n",
       " array([0.26299053], dtype=float32),\n",
       " array([0.2737737], dtype=float32),\n",
       " array([0.32697344], dtype=float32),\n",
       " array([0.3092671], dtype=float32),\n",
       " array([0.18779376], dtype=float32),\n",
       " array([0.17117453], dtype=float32),\n",
       " array([0.4166136], dtype=float32)]"
      ]
     },
     "execution_count": 13,
     "metadata": {},
     "output_type": "execute_result"
    }
   ],
   "source": [
    "initial_mse"
   ]
  },
  {
   "cell_type": "code",
   "execution_count": 30,
   "id": "2d6ab28c",
   "metadata": {},
   "outputs": [
    {
     "data": {
      "text/plain": [
       "8"
      ]
     },
     "execution_count": 30,
     "metadata": {},
     "output_type": "execute_result"
    }
   ],
   "source": [
    "fitness_matrix.index(min(fitness_matrix))"
   ]
  },
  {
   "cell_type": "code",
   "execution_count": 32,
   "id": "73643434",
   "metadata": {},
   "outputs": [
    {
     "data": {
      "text/plain": [
       "0.17117453"
      ]
     },
     "execution_count": 32,
     "metadata": {},
     "output_type": "execute_result"
    }
   ],
   "source": [
    "min(fitness_matrix)[0]"
   ]
  },
  {
   "cell_type": "markdown",
   "id": "bc500cd2",
   "metadata": {},
   "source": [
    "# Call the SSA_new"
   ]
  },
  {
   "cell_type": "code",
   "execution_count": 160,
   "id": "7e721fee",
   "metadata": {},
   "outputs": [
    {
     "name": "stdout",
     "output_type": "stream",
     "text": [
      "Inititializing parameters\n"
     ]
    }
   ],
   "source": [
    "dimension = 5\n",
    "total_birds = 10\n",
    "max_iterations = 5\n",
    "ssa = SSA_new(dimension=dimension, total_birds=total_birds, maximum_iterations=max_iterations)"
   ]
  },
  {
   "cell_type": "code",
   "execution_count": 132,
   "id": "9233ae2d",
   "metadata": {},
   "outputs": [
    {
     "name": "stdout",
     "output_type": "stream",
     "text": [
      "[[4.41509280e-03 3.57111471e+00 4.40854028e+01 3.76772393e+01\n",
      "  5.04367761e+01]\n",
      " [2.48232594e-03 2.65857229e+00 4.12531055e+01 3.58287820e+01\n",
      "  6.32694913e+01]\n",
      " [2.57356197e-03 1.90114360e+00 3.67106759e+01 3.55062613e+01\n",
      "  9.14105918e+01]\n",
      " [1.44831836e-03 1.11407302e+00 3.46970481e+01 3.04967156e+01\n",
      "  8.36392515e+01]\n",
      " [2.43950647e-03 1.30408590e+00 4.27986658e+01 4.11964106e+01\n",
      "  6.88471699e+01]\n",
      " [7.57312472e-03 3.37862116e+00 2.18215192e+01 4.41805341e+01\n",
      "  8.13236330e+01]\n",
      " [8.97741753e-03 3.76267653e+00 4.60044105e+01 4.45034140e+01\n",
      "  6.33263080e+01]\n",
      " [8.71076019e-03 1.13891901e+00 4.50635956e+01 3.11048052e+01\n",
      "  9.90332664e+01]\n",
      " [6.56899217e-03 1.92356612e+00 3.73717979e+01 2.81796852e+01\n",
      "  5.63258584e+01]\n",
      " [2.50457615e-03 3.01718137e+00 2.67555986e+01 3.45339193e+01\n",
      "  8.74847307e+01]]\n"
     ]
    }
   ],
   "source": [
    "lower_bound = [0.0001, 1, 20, 20, 50]\n",
    "upper_bound = [0.01, 5, 50, 50, 100]\n",
    "\n",
    "initial_population = ssa.initialize_populations(lower_bound=lower_bound, upper_bound=upper_bound)\n",
    "print(initial_population)"
   ]
  },
  {
   "cell_type": "code",
   "execution_count": 133,
   "id": "0e704610",
   "metadata": {},
   "outputs": [
    {
     "data": {
      "text/plain": [
       "[array([0.3655005], dtype=float32),\n",
       " array([0.29538572], dtype=float32),\n",
       " array([0.21750739], dtype=float32),\n",
       " array([0.26299053], dtype=float32),\n",
       " array([0.2737737], dtype=float32),\n",
       " array([0.32697344], dtype=float32),\n",
       " array([0.3092671], dtype=float32),\n",
       " array([0.18779376], dtype=float32),\n",
       " array([0.17117453], dtype=float32),\n",
       " array([0.4166136], dtype=float32)]"
      ]
     },
     "execution_count": 133,
     "metadata": {},
     "output_type": "execute_result"
    }
   ],
   "source": [
    "initial_mse"
   ]
  },
  {
   "cell_type": "code",
   "execution_count": 134,
   "id": "74d792d9",
   "metadata": {},
   "outputs": [
    {
     "name": "stdout",
     "output_type": "stream",
     "text": [
      "[8, 7]\n",
      "[2, 3]\n",
      "[4, 1, 6, 5, 0, 9]\n"
     ]
    }
   ],
   "source": [
    "producers, monitors, scroungers = ssa.compare_mse_and_decide_updation(initial_mse)\n",
    "print(producers)\n",
    "print(monitors)\n",
    "print(scroungers)"
   ]
  },
  {
   "cell_type": "code",
   "execution_count": 135,
   "id": "b67fc1e2",
   "metadata": {},
   "outputs": [
    {
     "name": "stdout",
     "output_type": "stream",
     "text": [
      "[3.44651834e-04 1.23856478e-01 3.24011634e+00 1.66564831e+00\n",
      " 4.57992210e+00]\n",
      "[6.02176951e-04 3.20215120e-01 2.86682712e+00 1.60898247e+00\n",
      " 3.88775650e+00]\n"
     ]
    }
   ],
   "source": [
    "for producer in producers:\n",
    "    new_location = ssa.update_producers(bird_index=producer, bird_matrix=population)\n",
    "    print(new_location)"
   ]
  },
  {
   "cell_type": "code",
   "execution_count": 136,
   "id": "5041e5b0",
   "metadata": {},
   "outputs": [
    {
     "name": "stdout",
     "output_type": "stream",
     "text": [
      "[1.51054750e-03 3.38915146e+00 3.14304347e+01 3.86069332e+01\n",
      " 9.95348976e+01]\n",
      "[5.22359684e-03 1.87718805e+00 4.91077076e+01 2.52448251e+01\n",
      " 6.94140122e+01]\n"
     ]
    }
   ],
   "source": [
    "best_bird, worst_bird = ssa.find_best_worst_bird(population=population, mse=initial_mse)\n",
    "print(best_bird)\n",
    "print(worst_bird)"
   ]
  },
  {
   "cell_type": "code",
   "execution_count": 137,
   "id": "fe466648",
   "metadata": {},
   "outputs": [
    {
     "name": "stdout",
     "output_type": "stream",
     "text": [
      "[2.86014094e-03 3.51408630e+00 3.57751373e+01 4.02753344e+01\n",
      " 1.01521626e+02]\n",
      "[2.47056455e-03 3.90384596e+00 3.47338017e+01 4.18385611e+01\n",
      " 1.02070117e+02]\n"
     ]
    }
   ],
   "source": [
    "for monitor in monitors:\n",
    "    new_location = ssa.update_monitor(bird_index=monitor, bird_matrix=population, \n",
    "                                      worst_bird=worst_bird, fitness_matrix=initial_mse, best_bird=best_bird)\n",
    "    \n",
    "    print(new_location)"
   ]
  },
  {
   "cell_type": "code",
   "execution_count": 138,
   "id": "f5e0f18e",
   "metadata": {},
   "outputs": [
    {
     "name": "stdout",
     "output_type": "stream",
     "text": [
      "[4.09734959e-03 4.59170024e+00 3.38257170e+01 4.12980675e+01\n",
      " 1.11295863e+02]\n",
      "[2.19817776e-03 3.61064057e+00 4.48662256e+01 4.60603448e+01\n",
      " 1.43474944e+02]\n",
      "[1.31406414 1.21822379 1.5234615  0.68645812 1.91770905]\n",
      "[8.37029744e-03 4.19531256e+00 4.80896913e+01 5.58226866e+01\n",
      " 1.25333058e+02]\n",
      "[7.42941888e-03 4.31763804e+00 4.27421773e+01 4.27915508e+01\n",
      " 1.26629756e+02]\n",
      "[1.31414679 1.28978505 1.63456992 1.1142455  0.90599545]\n"
     ]
    }
   ],
   "source": [
    "for scrounger in scroungers:\n",
    "    new_location = ssa.update_scrounger(worst_bird=worst_bird, bird_index=scrounger, best_bird=best_bird, \n",
    "                                        bird_matrix=population)\n",
    "    \n",
    "    print(new_location)"
   ]
  },
  {
   "cell_type": "code",
   "execution_count": 171,
   "id": "15cf656d",
   "metadata": {},
   "outputs": [],
   "source": [
    "def get_new_population(ssa, population, mse, lower_bound, upper_bound):\n",
    "    producers, monitors, scroungers = ssa.compare_mse_and_decide_updation(mse)\n",
    "    best_bird, worst_bird = ssa.find_best_worst_bird(population=population, mse=mse)\n",
    "    \n",
    "    for producer in producers:\n",
    "        new_location = ssa.update_producers(bird_index=producer, bird_matrix=population)\n",
    "        for i in range(len(new_location)):\n",
    "            loc = ssa.check_limits(lower_bound=lower_bound[i], upper_bound=upper_bound[i], new_pos=new_location[i])\n",
    "            if loc != new_location[i]:\n",
    "                print(\"Value Changed at index \" + str(i))\n",
    "                new_location[i] = loc\n",
    "            else:\n",
    "                continue\n",
    "        population[producer] = new_location\n",
    "        \n",
    "    for monitor in monitors:\n",
    "        new_location = ssa.update_monitor(bird_index=monitor, bird_matrix=population, \n",
    "                                      worst_bird=worst_bird, fitness_matrix=initial_mse, best_bird=best_bird)\n",
    "        for i in range(len(new_location)):\n",
    "            loc = ssa.check_limits(lower_bound=lower_bound[i], upper_bound=upper_bound[i], new_pos=new_location[i])\n",
    "            if loc != new_location[i]:\n",
    "                print(\"Value Changed at index \" + str(i))\n",
    "                new_location[i] = loc\n",
    "            else:\n",
    "                continue\n",
    "        population[monitor] = new_location\n",
    "        \n",
    "    for scrounger in scroungers:\n",
    "        new_location = ssa.update_scrounger(worst_bird=worst_bird, bird_index=scrounger, best_bird=best_bird, \n",
    "                                        bird_matrix=population)\n",
    "        for i in range(len(new_location)):\n",
    "            loc = ssa.check_limits(lower_bound=lower_bound[i], upper_bound=upper_bound[i], new_pos=new_location[i])\n",
    "            if loc != new_location[i]:\n",
    "                print(\"Value Changed at index \" + str(i))\n",
    "                new_location[i] = loc\n",
    "            else:\n",
    "                continue\n",
    "        population[scrounger] = new_location\n",
    "        \n",
    "    return population"
   ]
  },
  {
   "cell_type": "code",
   "execution_count": 161,
   "id": "92c266c4",
   "metadata": {},
   "outputs": [
    {
     "name": "stdout",
     "output_type": "stream",
     "text": [
      "Value Changed at index 3\n",
      "Value Changed at index 4\n",
      "Value Changed at index 2\n",
      "Value Changed at index 3\n",
      "Value Changed at index 4\n",
      "Value Changed at index 1\n",
      "Value Changed at index 4\n",
      "Value Changed at index 4\n",
      "Value Changed at index 0\n",
      "Value Changed at index 2\n",
      "Value Changed at index 3\n",
      "Value Changed at index 4\n",
      "Value Changed at index 1\n",
      "Value Changed at index 4\n",
      "Value Changed at index 0\n",
      "Value Changed at index 2\n",
      "Value Changed at index 3\n",
      "Value Changed at index 4\n",
      "[[7.97008279e-03 3.89673322e+00 3.14053391e+01 4.04465464e+01\n",
      "  9.96792966e+01]\n",
      " [7.73175214e-03 3.67089905e+00 3.32148137e+01 4.14972977e+01\n",
      "  9.56815013e+01]\n",
      " [3.39501751e-03 4.69398862e+00 2.79711986e+01 3.96181416e+01\n",
      "  9.53831631e+01]\n",
      " [3.06923619e-03 3.13708748e+00 3.20448192e+01 4.75920476e+01\n",
      "  8.67343110e+01]\n",
      " [5.13080579e-03 4.31818105e+00 3.35057443e+01 4.76685736e+01\n",
      "  5.88563890e+01]\n",
      " [5.45172156e-03 2.50955976e+00 3.96706304e+01 4.92488299e+01\n",
      "  8.88577403e+01]\n",
      " [3.45188154e-03 1.22386808e+00 4.61070746e+01 4.45657329e+01\n",
      "  7.42243026e+01]\n",
      " [3.16397438e-03 2.12476426e+00 3.07308191e+01 3.94547870e+01\n",
      "  8.15061418e+01]\n",
      " [3.31869744e-03 1.45108159e+00 2.39411479e+01 2.36988604e+01\n",
      "  6.10700627e+01]\n",
      " [7.72995624e-03 1.25407759e+00 2.59897464e+01 2.83662605e+01\n",
      "  5.21027462e+01]]\n"
     ]
    }
   ],
   "source": [
    "lower_bound = [0.0001, 1, 20, 20, 50]\n",
    "upper_bound = [0.01, 5, 50, 50, 100]\n",
    "pop = get_new_population(ssa, initial_population, initial_mse, lower_bound, upper_bound)\n",
    "print(pop)"
   ]
  },
  {
   "cell_type": "markdown",
   "id": "11c3ef99",
   "metadata": {},
   "source": [
    "# Final Implementation"
   ]
  },
  {
   "cell_type": "code",
   "execution_count": 166,
   "id": "9fa21128",
   "metadata": {},
   "outputs": [],
   "source": [
    "def train_model(population):\n",
    "    mse_vals = []\n",
    "    for i in range(population.shape[0]):\n",
    "        learning_rate = population[i][0]\n",
    "        epochs = math.floor(population[i][1])\n",
    "        neuron_1 = math.floor(population[i][2])\n",
    "        neuron_2 = math.floor(population[i][3])\n",
    "        neuron_3 = math.floor(population[i][4])\n",
    "    \n",
    "        model = Model(learning_rate=learning_rate, epochs=epochs, neuron_1=neuron_1, neuron_2=neuron_2, \n",
    "                      neuron_3=neuron_3)\n",
    "        trial_model = model.build_model(vocab_size=vocab_size, embedding_matrix=embedding_matrix)\n",
    "        mse = model.train_test_model(model=trial_model, x_train=x_train, x_test=x_text, y_test=y_test, \n",
    "                                     y_train=y_train)\n",
    "    \n",
    "        mse_vals.append(mse)\n",
    "        \n",
    "    return mse_vals"
   ]
  },
  {
   "cell_type": "code",
   "execution_count": 174,
   "id": "79cf2ee9",
   "metadata": {},
   "outputs": [
    {
     "name": "stdout",
     "output_type": "stream",
     "text": [
      "Inititializing parameters\n",
      "157/157 [==============================] - 262s 2s/step - loss: 0.7279 - accuracy: 0.5018 - val_loss: 0.6937 - val_accuracy: 0.4946\n",
      "Epoch 1/2\n",
      "157/157 [==============================] - 167s 1s/step - loss: 0.7271 - accuracy: 0.4995 - val_loss: 0.6966 - val_accuracy: 0.4946\n",
      "Epoch 2/2\n",
      "157/157 [==============================] - 161s 1s/step - loss: 0.6971 - accuracy: 0.4993 - val_loss: 0.6957 - val_accuracy: 0.5054\n",
      "157/157 [==============================] - 261s 2s/step - loss: 0.7398 - accuracy: 0.4983 - val_loss: 0.6958 - val_accuracy: 0.4946\n",
      "Epoch 1/2\n",
      "157/157 [==============================] - 246s 2s/step - loss: 0.7084 - accuracy: 0.5027 - val_loss: 0.6934 - val_accuracy: 0.5062\n",
      "Epoch 2/2\n",
      "157/157 [==============================] - 246s 2s/step - loss: 0.6123 - accuracy: 0.6402 - val_loss: 0.4918 - val_accuracy: 0.7782\n",
      "Epoch 1/4\n",
      "157/157 [==============================] - 279s 2s/step - loss: 0.7387 - accuracy: 0.4974 - val_loss: 0.6938 - val_accuracy: 0.5054\n",
      "Epoch 2/4\n",
      "157/157 [==============================] - 278s 2s/step - loss: 0.6981 - accuracy: 0.4981 - val_loss: 0.7028 - val_accuracy: 0.5054\n",
      "Epoch 3/4\n",
      "157/157 [==============================] - 285s 2s/step - loss: 0.6956 - accuracy: 0.4994 - val_loss: 0.6933 - val_accuracy: 0.4946\n",
      "Epoch 4/4\n",
      "157/157 [==============================] - 286s 2s/step - loss: 0.6967 - accuracy: 0.4971 - val_loss: 0.7040 - val_accuracy: 0.4946\n",
      "Epoch 1/2\n",
      "157/157 [==============================] - 218s 1s/step - loss: 0.7498 - accuracy: 0.4989 - val_loss: 0.6931 - val_accuracy: 0.5080\n",
      "Epoch 2/2\n",
      "157/157 [==============================] - 219s 1s/step - loss: 0.6957 - accuracy: 0.4986 - val_loss: 0.7314 - val_accuracy: 0.4946\n",
      "Epoch 1/2\n",
      "157/157 [==============================] - 239s 2s/step - loss: 0.5817 - accuracy: 0.6774 - val_loss: 0.4520 - val_accuracy: 0.7802\n",
      "Epoch 2/2\n",
      "157/157 [==============================] - 232s 1s/step - loss: 0.3939 - accuracy: 0.8253 - val_loss: 0.3301 - val_accuracy: 0.8609\n",
      "157/157 [==============================] - 293s 2s/step - loss: 0.7255 - accuracy: 0.5056 - val_loss: 0.6928 - val_accuracy: 0.5182\n",
      "Epoch 1/4\n",
      "157/157 [==============================] - 188s 1s/step - loss: 0.5415 - accuracy: 0.7262 - val_loss: 0.4284 - val_accuracy: 0.8030\n",
      "Epoch 2/4\n",
      "157/157 [==============================] - 180s 1s/step - loss: 0.3951 - accuracy: 0.8247 - val_loss: 0.4705 - val_accuracy: 0.7846\n",
      "Epoch 3/4\n",
      "157/157 [==============================] - 178s 1s/step - loss: 0.3373 - accuracy: 0.8525 - val_loss: 0.3704 - val_accuracy: 0.8411\n",
      "Epoch 4/4\n",
      "157/157 [==============================] - 179s 1s/step - loss: 0.2799 - accuracy: 0.8819 - val_loss: 0.3686 - val_accuracy: 0.8473\n",
      "Epoch 1/3\n",
      "157/157 [==============================] - 325s 2s/step - loss: 0.7161 - accuracy: 0.5004 - val_loss: 0.6972 - val_accuracy: 0.4946\n",
      "Epoch 2/3\n",
      "157/157 [==============================] - 295s 2s/step - loss: 0.6982 - accuracy: 0.5000 - val_loss: 0.6949 - val_accuracy: 0.4946\n",
      "Epoch 3/3\n",
      "157/157 [==============================] - 297s 2s/step - loss: 0.6974 - accuracy: 0.4934 - val_loss: 0.6976 - val_accuracy: 0.4946\n",
      "===================== Iteration 0 =========================\n",
      "[array([0.26383072], dtype=float32), array([0.21036917], dtype=float32), array([0.28235334], dtype=float32), array([0.5008182], dtype=float32), array([0.3229772], dtype=float32), array([0.3977326], dtype=float32), array([0.41356224], dtype=float32), array([0.24496287], dtype=float32), array([0.4587565], dtype=float32), array([0.2937598], dtype=float32)]\n",
      "Value Changed at index 0\n",
      "Value Changed at index 4\n",
      "Value Changed at index 0\n",
      "Value Changed at index 1\n",
      "Value Changed at index 2\n",
      "Value Changed at index 3\n",
      "Value Changed at index 4\n",
      "Value Changed at index 3\n",
      "Value Changed at index 3\n",
      "Value Changed at index 0\n",
      "Value Changed at index 1\n",
      "Value Changed at index 2\n",
      "Value Changed at index 3\n",
      "Value Changed at index 4\n",
      "Value Changed at index 0\n",
      "Value Changed at index 1\n",
      "Value Changed at index 2\n",
      "Value Changed at index 3\n",
      "Value Changed at index 4\n",
      "===================== New Population  =========================\n",
      "[[9.90464370e-04 1.66219208e+00 2.14468108e+01 3.29020873e+01\n",
      "  5.59999455e+01]\n",
      " [5.04841611e-03 2.96360920e+00 2.15015118e+01 2.67444701e+01\n",
      "  7.76302382e+01]\n",
      " [9.11662338e-03 2.09544282e+00 2.27263353e+01 2.70218714e+01\n",
      "  8.34831576e+01]\n",
      " [1.21013556e-03 2.93137611e+00 3.28948468e+01 4.77300885e+01\n",
      "  5.75545839e+01]\n",
      " [5.82015715e-03 4.56142880e+00 4.40642743e+01 4.27748061e+01\n",
      "  9.93567943e+01]\n",
      " [5.56692332e-03 3.83314090e+00 3.81570668e+01 2.35021421e+01\n",
      "  7.00940640e+01]\n",
      " [5.53881916e-03 3.89420092e+00 4.60446949e+01 4.26348285e+01\n",
      "  6.51613126e+01]\n",
      " [2.05982591e-03 1.65981119e+00 3.49554583e+01 4.67528018e+01\n",
      "  9.49725962e+01]\n",
      " [8.96790943e-03 1.25486569e+00 2.81947198e+01 3.67001151e+01\n",
      "  8.90216739e+01]\n",
      " [1.58953248e-03 3.94329777e+00 2.83942818e+01 2.97232416e+01\n",
      "  6.73642150e+01]]\n",
      "157/157 [==============================] - 168s 1s/step - loss: 0.5442 - accuracy: 0.7234 - val_loss: 0.3841 - val_accuracy: 0.8337\n",
      "Epoch 1/2\n",
      "157/157 [==============================] - 164s 1s/step - loss: 0.7196 - accuracy: 0.4961 - val_loss: 0.6981 - val_accuracy: 0.4946\n",
      "Epoch 2/2\n",
      "157/157 [==============================] - 162s 1s/step - loss: 0.6972 - accuracy: 0.4987 - val_loss: 0.6948 - val_accuracy: 0.4946\n",
      "Epoch 1/2\n",
      "157/157 [==============================] - 171s 1s/step - loss: 0.7594 - accuracy: 0.4959 - val_loss: 0.6934 - val_accuracy: 0.5054\n",
      "Epoch 2/2\n",
      "157/157 [==============================] - 169s 1s/step - loss: 0.6970 - accuracy: 0.5103 - val_loss: 0.7132 - val_accuracy: 0.4946\n",
      "Epoch 1/2\n",
      "157/157 [==============================] - 243s 2s/step - loss: 0.5222 - accuracy: 0.7474 - val_loss: 0.3906 - val_accuracy: 0.8287\n",
      "Epoch 2/2\n",
      "157/157 [==============================] - 241s 2s/step - loss: 0.3794 - accuracy: 0.8343 - val_loss: 0.3457 - val_accuracy: 0.8547\n",
      "Epoch 1/4\n",
      "157/157 [==============================] - 308s 2s/step - loss: 0.7690 - accuracy: 0.5014 - val_loss: 0.6955 - val_accuracy: 0.4946\n",
      "Epoch 2/4\n",
      "157/157 [==============================] - 298s 2s/step - loss: 0.6984 - accuracy: 0.4945 - val_loss: 0.6932 - val_accuracy: 0.5050\n",
      "Epoch 3/4\n",
      "157/157 [==============================] - 298s 2s/step - loss: 0.6976 - accuracy: 0.4991 - val_loss: 0.7001 - val_accuracy: 0.5052\n",
      "Epoch 4/4\n",
      "157/157 [==============================] - 302s 2s/step - loss: 0.6977 - accuracy: 0.5065 - val_loss: 0.6951 - val_accuracy: 0.4946\n",
      "Epoch 1/3\n",
      "157/157 [==============================] - 221s 1s/step - loss: 0.7294 - accuracy: 0.5029 - val_loss: 0.6976 - val_accuracy: 0.4946\n",
      "Epoch 2/3\n",
      "157/157 [==============================] - 213s 1s/step - loss: 0.6980 - accuracy: 0.5001 - val_loss: 0.6934 - val_accuracy: 0.5054\n",
      "Epoch 3/3\n",
      "157/157 [==============================] - 214s 1s/step - loss: 0.6963 - accuracy: 0.5083 - val_loss: 0.7009 - val_accuracy: 0.5054\n",
      "Epoch 1/3\n",
      "157/157 [==============================] - 281s 2s/step - loss: 0.7495 - accuracy: 0.5031 - val_loss: 0.6942 - val_accuracy: 0.5054\n",
      "Epoch 2/3\n",
      "157/157 [==============================] - 279s 2s/step - loss: 0.7000 - accuracy: 0.5025 - val_loss: 0.6933 - val_accuracy: 0.5054\n",
      "Epoch 3/3\n",
      "157/157 [==============================] - 290s 2s/step - loss: 0.7006 - accuracy: 0.5029 - val_loss: 0.7018 - val_accuracy: 0.5054\n",
      "157/157 [==============================] - 271s 2s/step - loss: 0.7281 - accuracy: 0.5148 - val_loss: 0.6941 - val_accuracy: 0.4920\n",
      "157/157 [==============================] - 213s 1s/step - loss: 0.7686 - accuracy: 0.4986 - val_loss: 0.6957 - val_accuracy: 0.4932\n",
      "Epoch 1/3\n",
      "157/157 [==============================] - 192s 1s/step - loss: 0.7204 - accuracy: 0.5054 - val_loss: 0.6997 - val_accuracy: 0.5068\n",
      "Epoch 2/3\n",
      "157/157 [==============================] - 189s 1s/step - loss: 0.5301 - accuracy: 0.7188 - val_loss: 0.3720 - val_accuracy: 0.8471\n",
      "Epoch 3/3\n",
      "157/157 [==============================] - 189s 1s/step - loss: 0.3665 - accuracy: 0.8407 - val_loss: 0.3367 - val_accuracy: 0.8701\n",
      "===================== Iteration 1 =========================\n",
      "[array([0.42803812], dtype=float32), array([0.2748334], dtype=float32), array([0.35298187], dtype=float32), array([0.42002594], dtype=float32), array([0.2767299], dtype=float32), array([0.18704458], dtype=float32), array([0.18397796], dtype=float32), array([0.2677324], dtype=float32), array([0.26998937], dtype=float32), array([0.41944915], dtype=float32)]\n",
      "Value Changed at index 2\n",
      "Value Changed at index 3\n",
      "Value Changed at index 4\n",
      "Value Changed at index 2\n",
      "Value Changed at index 3\n",
      "Value Changed at index 4\n",
      "Value Changed at index 0\n",
      "Value Changed at index 2\n",
      "Value Changed at index 4\n",
      "Value Changed at index 0\n",
      "Value Changed at index 0\n",
      "Value Changed at index 1\n",
      "Value Changed at index 2\n",
      "Value Changed at index 3\n",
      "Value Changed at index 4\n",
      "===================== New Population  =========================\n",
      "[[9.90464370e-04 1.66219208e+00 2.14468108e+01 3.29020873e+01\n",
      "  5.59999455e+01]\n",
      " [5.04841611e-03 2.96360920e+00 2.15015118e+01 3.90597044e+01\n",
      "  7.76302382e+01]\n",
      " [9.11662338e-03 2.09544282e+00 2.27263353e+01 3.87823032e+01\n",
      "  8.34831576e+01]\n",
      " [1.21013556e-03 2.93137611e+00 3.28948468e+01 4.77300885e+01\n",
      "  5.75545839e+01]\n",
      " [5.82015715e-03 4.56142880e+00 4.40642743e+01 4.27748061e+01\n",
      "  9.93567943e+01]\n",
      " [2.03600979e-03 1.40190765e+00 2.16197140e+01 4.57964565e+01\n",
      "  8.68732411e+01]\n",
      " [2.02573116e-03 1.42423934e+00 2.75054424e+01 4.69641975e+01\n",
      "  7.67569430e+01]\n",
      " [6.54619966e-03 1.66016759e+00 3.72218963e+01 2.11247272e+01\n",
      "  6.43417357e+01]\n",
      " [9.54013964e-03 1.38202897e+00 2.87122192e+01 4.44062389e+01\n",
      "  9.82298555e+01]\n",
      " [2.85322922e-03 2.80438271e+00 2.45528012e+01 4.47507017e+01\n",
      "  9.23106169e+01]]\n"
     ]
    },
    {
     "name": "stdout",
     "output_type": "stream",
     "text": [
      "157/157 [==============================] - 169s 1s/step - loss: 0.5590 - accuracy: 0.7032 - val_loss: 0.4847 - val_accuracy: 0.7712\n",
      "Epoch 1/2\n",
      "157/157 [==============================] - 201s 1s/step - loss: 0.7382 - accuracy: 0.5008 - val_loss: 0.7109 - val_accuracy: 0.5054\n",
      "Epoch 2/2\n",
      "157/157 [==============================] - 194s 1s/step - loss: 0.6978 - accuracy: 0.5014 - val_loss: 0.7099 - val_accuracy: 0.5054\n",
      "Epoch 1/2\n",
      "157/157 [==============================] - 212s 1s/step - loss: 0.7541 - accuracy: 0.5005 - val_loss: 0.6942 - val_accuracy: 0.4946\n",
      "Epoch 2/2\n",
      "157/157 [==============================] - 198s 1s/step - loss: 0.6980 - accuracy: 0.4990 - val_loss: 0.7051 - val_accuracy: 0.4946\n",
      "Epoch 1/2\n",
      "157/157 [==============================] - 247s 2s/step - loss: 0.5656 - accuracy: 0.7190 - val_loss: 0.4174 - val_accuracy: 0.8183\n",
      "Epoch 2/2\n",
      "157/157 [==============================] - 245s 2s/step - loss: 0.3880 - accuracy: 0.8281 - val_loss: 0.3850 - val_accuracy: 0.8389\n",
      "Epoch 1/4\n",
      "157/157 [==============================] - 303s 2s/step - loss: 0.7392 - accuracy: 0.4987 - val_loss: 0.6950 - val_accuracy: 0.5054\n",
      "Epoch 2/4\n",
      "157/157 [==============================] - 301s 2s/step - loss: 0.6971 - accuracy: 0.4996 - val_loss: 0.6931 - val_accuracy: 0.5054\n",
      "Epoch 3/4\n",
      "157/157 [==============================] - 295s 2s/step - loss: 0.6970 - accuracy: 0.4946 - val_loss: 0.6946 - val_accuracy: 0.5054\n",
      "Epoch 4/4\n",
      "157/157 [==============================] - 294s 2s/step - loss: 0.6987 - accuracy: 0.4992 - val_loss: 0.6943 - val_accuracy: 0.5054\n",
      "157/157 [==============================] - 214s 1s/step - loss: 0.7220 - accuracy: 0.5276 - val_loss: 0.5265 - val_accuracy: 0.7474\n",
      "157/157 [==============================] - 232s 1s/step - loss: 0.7233 - accuracy: 0.5033 - val_loss: 0.6954 - val_accuracy: 0.4946\n",
      "157/157 [==============================] - 216s 1s/step - loss: 0.7364 - accuracy: 0.4979 - val_loss: 0.6967 - val_accuracy: 0.4946\n",
      "157/157 [==============================] - 248s 2s/step - loss: 0.7706 - accuracy: 0.5011 - val_loss: 0.7021 - val_accuracy: 0.5054\n",
      "Epoch 1/2\n",
      "157/157 [==============================] - 233s 1s/step - loss: 0.7132 - accuracy: 0.4948 - val_loss: 0.6943 - val_accuracy: 0.5054\n",
      "Epoch 2/2\n",
      "157/157 [==============================] - 214s 1s/step - loss: 0.6948 - accuracy: 0.4987 - val_loss: 0.6945 - val_accuracy: 0.5054\n",
      "===================== Iteration 2 =========================\n",
      "[array([0.5146933], dtype=float32), array([0.1630953], dtype=float32), array([0.32690898], dtype=float32), array([0.50750333], dtype=float32), array([0.2207385], dtype=float32), array([0.2975065], dtype=float32), array([0.2795158], dtype=float32), array([0.28826892], dtype=float32), array([0.18297888], dtype=float32), array([0.21771102], dtype=float32)]\n",
      "Value Changed at index 1\n",
      "Value Changed at index 2\n",
      "Value Changed at index 3\n",
      "Value Changed at index 4\n",
      "Value Changed at index 1\n",
      "Value Changed at index 2\n",
      "Value Changed at index 3\n",
      "Value Changed at index 4\n",
      "Value Changed at index 0\n",
      "Value Changed at index 1\n",
      "Value Changed at index 2\n",
      "Value Changed at index 4\n",
      "Value Changed at index 0\n",
      "Value Changed at index 1\n",
      "Value Changed at index 2\n",
      "Value Changed at index 4\n",
      "Value Changed at index 0\n",
      "Value Changed at index 1\n",
      "Value Changed at index 2\n",
      "Value Changed at index 3\n",
      "Value Changed at index 4\n",
      "Value Changed at index 0\n",
      "Value Changed at index 1\n",
      "Value Changed at index 2\n",
      "Value Changed at index 3\n",
      "Value Changed at index 4\n",
      "===================== New Population  =========================\n",
      "[[9.90464370e-04 1.66219208e+00 2.14468108e+01 3.29020873e+01\n",
      "  5.59999455e+01]\n",
      " [6.75280782e-04 4.14397862e+00 3.53400511e+01 3.96131687e+01\n",
      "  8.49270210e+01]\n",
      " [9.11662338e-03 2.09544282e+00 2.27263353e+01 3.87823032e+01\n",
      "  8.34831576e+01]\n",
      " [1.21013556e-03 2.93137611e+00 3.28948468e+01 4.77300885e+01\n",
      "  5.75545839e+01]\n",
      " [3.10149207e-03 4.63277582e+00 4.59517035e+01 2.45072449e+01\n",
      "  8.83410023e+01]\n",
      " [2.03600979e-03 1.92247651e+00 2.16197140e+01 4.57964565e+01\n",
      "  8.68732411e+01]\n",
      " [2.62278726e-03 1.38279409e+00 2.91026536e+01 3.03560007e+01\n",
      "  5.84546708e+01]\n",
      " [1.35436028e-03 4.16762664e+00 4.23046151e+01 4.32651063e+01\n",
      "  8.53901409e+01]\n",
      " [1.27609785e-03 1.29673956e+00 3.26940066e+01 4.64897740e+01\n",
      "  6.99990805e+01]\n",
      " [4.31958529e-03 2.43072598e+00 3.87313029e+01 2.28271270e+01\n",
      "  5.83684971e+01]]\n",
      "157/157 [==============================] - 169s 1s/step - loss: 0.5486 - accuracy: 0.7174 - val_loss: 0.3955 - val_accuracy: 0.8315\n",
      "Epoch 1/4\n",
      "157/157 [==============================] - 255s 2s/step - loss: 0.5973 - accuracy: 0.6789 - val_loss: 0.4516 - val_accuracy: 0.7758\n",
      "Epoch 2/4\n",
      "157/157 [==============================] - 251s 2s/step - loss: 0.4182 - accuracy: 0.8107 - val_loss: 0.5215 - val_accuracy: 0.7368\n",
      "Epoch 3/4\n",
      "157/157 [==============================] - 251s 2s/step - loss: 0.3734 - accuracy: 0.8333 - val_loss: 0.3689 - val_accuracy: 0.8445\n",
      "Epoch 4/4\n",
      "157/157 [==============================] - 246s 2s/step - loss: 0.3185 - accuracy: 0.8635 - val_loss: 0.3167 - val_accuracy: 0.8683\n",
      "Epoch 1/2\n",
      "157/157 [==============================] - 203s 1s/step - loss: 0.8061 - accuracy: 0.5024 - val_loss: 0.6947 - val_accuracy: 0.5010\n",
      "Epoch 2/2\n",
      "157/157 [==============================] - 198s 1s/step - loss: 0.6986 - accuracy: 0.5032 - val_loss: 0.6943 - val_accuracy: 0.4946\n",
      "Epoch 1/2\n",
      "157/157 [==============================] - 246s 2s/step - loss: 0.6151 - accuracy: 0.6699 - val_loss: 0.4428 - val_accuracy: 0.8094\n",
      "Epoch 2/2\n",
      "157/157 [==============================] - 243s 2s/step - loss: 0.3913 - accuracy: 0.8281 - val_loss: 0.3683 - val_accuracy: 0.8359\n",
      "Epoch 1/4\n",
      "157/157 [==============================] - 239s 2s/step - loss: 0.7229 - accuracy: 0.5039 - val_loss: 0.7089 - val_accuracy: 0.4946\n",
      "Epoch 2/4\n",
      "157/157 [==============================] - 235s 1s/step - loss: 0.6958 - accuracy: 0.5039 - val_loss: 0.6946 - val_accuracy: 0.4946\n",
      "Epoch 3/4\n",
      "157/157 [==============================] - 236s 2s/step - loss: 0.6962 - accuracy: 0.4999 - val_loss: 0.6935 - val_accuracy: 0.5054\n",
      "Epoch 4/4\n",
      "157/157 [==============================] - 238s 2s/step - loss: 0.6959 - accuracy: 0.4963 - val_loss: 0.6934 - val_accuracy: 0.4946\n",
      "157/157 [==============================] - 222s 1s/step - loss: 0.7111 - accuracy: 0.5001 - val_loss: 0.6949 - val_accuracy: 0.4946\n",
      "157/157 [==============================] - 197s 1s/step - loss: 0.7311 - accuracy: 0.5012 - val_loss: 0.6929 - val_accuracy: 0.5108\n",
      "Epoch 1/4\n",
      "157/157 [==============================] - 285s 2s/step - loss: 0.5720 - accuracy: 0.6959 - val_loss: 0.4721 - val_accuracy: 0.7940\n",
      "Epoch 2/4\n",
      "157/157 [==============================] - 284s 2s/step - loss: 0.3827 - accuracy: 0.8316 - val_loss: 0.3253 - val_accuracy: 0.8691\n",
      "Epoch 3/4\n",
      "157/157 [==============================] - 284s 2s/step - loss: 0.3366 - accuracy: 0.8556 - val_loss: 0.3105 - val_accuracy: 0.8713\n",
      "Epoch 4/4\n",
      "157/157 [==============================] - 283s 2s/step - loss: 0.3056 - accuracy: 0.8721 - val_loss: 0.3586 - val_accuracy: 0.8515\n",
      "157/157 [==============================] - 246s 2s/step - loss: 0.5695 - accuracy: 0.6939 - val_loss: 0.4165 - val_accuracy: 0.8036\n",
      "Epoch 1/2\n",
      "157/157 [==============================] - 209s 1s/step - loss: 0.7490 - accuracy: 0.5059 - val_loss: 0.6933 - val_accuracy: 0.5054\n",
      "Epoch 2/2\n",
      "157/157 [==============================] - 205s 1s/step - loss: 0.6956 - accuracy: 0.5012 - val_loss: 0.6978 - val_accuracy: 0.5054\n",
      "===================== Iteration 3 =========================\n",
      "[array([0.4231792], dtype=float32), array([0.42530262], dtype=float32), array([0.27169842], dtype=float32), array([0.46039054], dtype=float32), array([0.25830805], dtype=float32), array([0.27596265], dtype=float32), array([0.24596274], dtype=float32), array([0.53729475], dtype=float32), array([0.27398607], dtype=float32), array([0.19923238], dtype=float32)]\n",
      "Value Changed at index 1\n",
      "Value Changed at index 2\n",
      "Value Changed at index 3\n",
      "Value Changed at index 4\n",
      "Value Changed at index 1\n",
      "Value Changed at index 2\n",
      "Value Changed at index 3\n",
      "Value Changed at index 4\n",
      "Value Changed at index 0\n",
      "Value Changed at index 0\n",
      "Value Changed at index 0\n",
      "Value Changed at index 1\n",
      "Value Changed at index 2\n",
      "Value Changed at index 3\n",
      "Value Changed at index 4\n",
      "Value Changed at index 1\n",
      "Value Changed at index 2\n",
      "Value Changed at index 1\n",
      "Value Changed at index 2\n",
      "Value Changed at index 3\n",
      "Value Changed at index 4\n",
      "Value Changed at index 1\n",
      "Value Changed at index 2\n",
      "Value Changed at index 4\n",
      "Value Changed at index 0\n",
      "Value Changed at index 1\n",
      "Value Changed at index 2\n",
      "Value Changed at index 3\n",
      "Value Changed at index 4\n",
      "===================== New Population  =========================\n",
      "[[1.71825619e-03 4.07988967e+00 4.72903063e+01 3.41480929e+01\n",
      "  6.60792620e+01]\n",
      " [2.03343978e-03 4.19127466e+00 4.92691792e+01 4.69170438e+01\n",
      "  8.58532607e+01]\n",
      " [9.23879998e-04 2.40563415e+00 2.56570659e+01 3.94533472e+01\n",
      "  8.37686196e+01]\n",
      " [1.49858501e-03 3.93858197e+00 3.46636038e+01 4.77300885e+01\n",
      "  7.57082871e+01]\n",
      " [7.97031531e-03 3.77210702e+00 3.92034702e+01 2.73151647e+01\n",
      "  8.28810026e+01]\n",
      " [2.03600979e-03 2.07705429e+00 4.03401847e+01 4.57964565e+01\n",
      "  8.68732411e+01]\n",
      " [1.28308945e-04 2.34109364e+00 2.95353731e+01 3.15985924e+01\n",
      "  9.86275113e+01]\n",
      " [2.14372148e-03 1.50051646e+00 3.10077470e+01 2.85462468e+01\n",
      "  5.12809804e+01]\n",
      " [1.15030763e-03 2.57579674e+00 3.09786462e+01 4.46441670e+01\n",
      "  9.24384242e+01]\n",
      " [2.11317723e-04 2.06991077e+00 4.08171704e+01 4.76358541e+01\n",
      "  5.52094600e+01]]\n"
     ]
    },
    {
     "name": "stdout",
     "output_type": "stream",
     "text": [
      "Epoch 1/4\n",
      "157/157 [==============================] - 266s 2s/step - loss: 0.7286 - accuracy: 0.4965 - val_loss: 0.6930 - val_accuracy: 0.5054\n",
      "Epoch 2/4\n",
      "157/157 [==============================] - 270s 2s/step - loss: 0.6951 - accuracy: 0.5028 - val_loss: 0.6931 - val_accuracy: 0.5192\n",
      "Epoch 3/4\n",
      "157/157 [==============================] - 265s 2s/step - loss: 0.6954 - accuracy: 0.4964 - val_loss: 0.6933 - val_accuracy: 0.5054\n",
      "Epoch 4/4\n",
      "157/157 [==============================] - 265s 2s/step - loss: 0.6951 - accuracy: 0.5011 - val_loss: 0.6929 - val_accuracy: 0.5819\n",
      "Epoch 1/4\n",
      "157/157 [==============================] - 329s 2s/step - loss: 0.7357 - accuracy: 0.5031 - val_loss: 0.6955 - val_accuracy: 0.4946\n",
      "Epoch 2/4\n",
      "157/157 [==============================] - 317s 2s/step - loss: 0.6956 - accuracy: 0.5006 - val_loss: 0.6928 - val_accuracy: 0.5184\n",
      "Epoch 3/4\n",
      "157/157 [==============================] - 317s 2s/step - loss: 0.6949 - accuracy: 0.5053 - val_loss: 0.6970 - val_accuracy: 0.5054\n",
      "Epoch 4/4\n",
      "157/157 [==============================] - 317s 2s/step - loss: 0.6949 - accuracy: 0.5008 - val_loss: 0.6931 - val_accuracy: 0.5054\n",
      "Epoch 1/2\n",
      "157/157 [==============================] - 210s 1s/step - loss: 0.5504 - accuracy: 0.7294 - val_loss: 0.4048 - val_accuracy: 0.8179\n",
      "Epoch 2/2\n",
      "157/157 [==============================] - 208s 1s/step - loss: 0.3887 - accuracy: 0.8302 - val_loss: 0.3899 - val_accuracy: 0.8233\n",
      "Epoch 1/3\n",
      "157/157 [==============================] - 269s 2s/step - loss: 0.6798 - accuracy: 0.5821 - val_loss: 0.4875 - val_accuracy: 0.7808\n",
      "Epoch 2/3\n",
      "157/157 [==============================] - 257s 2s/step - loss: 0.4322 - accuracy: 0.8052 - val_loss: 0.5096 - val_accuracy: 0.7948\n",
      "Epoch 3/3\n",
      "157/157 [==============================] - 257s 2s/step - loss: 0.3635 - accuracy: 0.8435 - val_loss: 0.3099 - val_accuracy: 0.8707\n",
      "Epoch 1/3\n",
      "157/157 [==============================] - 232s 1s/step - loss: 0.7634 - accuracy: 0.5012 - val_loss: 0.7045 - val_accuracy: 0.4946\n",
      "Epoch 2/3\n",
      "157/157 [==============================] - 229s 1s/step - loss: 0.7008 - accuracy: 0.4968 - val_loss: 0.6931 - val_accuracy: 0.5054\n",
      "Epoch 3/3\n",
      "157/157 [==============================] - 229s 1s/step - loss: 0.7020 - accuracy: 0.4983 - val_loss: 0.6987 - val_accuracy: 0.4946\n",
      "Epoch 1/2\n",
      "157/157 [==============================] - 281s 2s/step - loss: 0.7338 - accuracy: 0.5043 - val_loss: 0.6923 - val_accuracy: 0.5164\n",
      "Epoch 2/2\n",
      "157/157 [==============================] - 286s 2s/step - loss: 0.6947 - accuracy: 0.5037 - val_loss: 0.6924 - val_accuracy: 0.5222\n",
      "Epoch 1/2\n",
      "157/157 [==============================] - 212s 1s/step - loss: 0.5250 - accuracy: 0.7359 - val_loss: 0.4825 - val_accuracy: 0.7696\n",
      "Epoch 2/2\n",
      "157/157 [==============================] - 208s 1s/step - loss: 0.4292 - accuracy: 0.8017 - val_loss: 0.4272 - val_accuracy: 0.8088\n",
      "157/157 [==============================] - 198s 1s/step - loss: 0.7269 - accuracy: 0.5038 - val_loss: 0.6948 - val_accuracy: 0.5080\n",
      "Epoch 1/2\n",
      "157/157 [==============================] - 243s 2s/step - loss: 0.7237 - accuracy: 0.5106 - val_loss: 0.7024 - val_accuracy: 0.5088\n",
      "Epoch 2/2\n",
      "157/157 [==============================] - 240s 2s/step - loss: 0.4776 - accuracy: 0.7678 - val_loss: 0.3880 - val_accuracy: 0.8277\n",
      "Epoch 1/2\n",
      "157/157 [==============================] - 290s 2s/step - loss: 0.5742 - accuracy: 0.7050 - val_loss: 0.4398 - val_accuracy: 0.8002\n",
      "Epoch 2/2\n",
      "157/157 [==============================] - 266s 2s/step - loss: 0.4127 - accuracy: 0.8125 - val_loss: 0.4279 - val_accuracy: 0.8074\n",
      "===================== Iteration 4 =========================\n",
      "[array([0.2495167], dtype=float32), array([0.24703644], dtype=float32), array([0.3001436], dtype=float32), array([0.38513604], dtype=float32), array([0.29987794], dtype=float32), array([0.22750616], dtype=float32), array([0.38275096], dtype=float32), array([0.22785883], dtype=float32), array([0.41617596], dtype=float32), array([0.46294406], dtype=float32)]\n",
      "Value Changed at index 0\n",
      "Value Changed at index 1\n",
      "Value Changed at index 2\n",
      "Value Changed at index 3\n",
      "Value Changed at index 4\n",
      "Value Changed at index 0\n",
      "Value Changed at index 1\n",
      "Value Changed at index 2\n",
      "Value Changed at index 3\n",
      "Value Changed at index 4\n",
      "Value Changed at index 0\n",
      "Value Changed at index 1\n",
      "Value Changed at index 4\n",
      "Value Changed at index 0\n",
      "Value Changed at index 1\n",
      "Value Changed at index 4\n",
      "Value Changed at index 3\n",
      "Value Changed at index 2\n",
      "Value Changed at index 3\n",
      "Value Changed at index 0\n",
      "Value Changed at index 1\n",
      "Value Changed at index 2\n",
      "Value Changed at index 3\n",
      "Value Changed at index 4\n",
      "Value Changed at index 0\n",
      "Value Changed at index 1\n",
      "Value Changed at index 2\n",
      "Value Changed at index 3\n",
      "Value Changed at index 4\n",
      "Value Changed at index 0\n",
      "Value Changed at index 1\n",
      "Value Changed at index 2\n",
      "Value Changed at index 3\n",
      "Value Changed at index 4\n",
      "===================== New Population  =========================\n",
      "[[7.82082429e-03 1.64627874e+00 3.53130174e+01 3.61671158e+01\n",
      "  8.48119571e+01]\n",
      " [1.41382333e-03 4.46057429e+00 3.36303678e+01 4.70246447e+01\n",
      "  7.72442944e+01]\n",
      " [9.23879998e-04 2.40563415e+00 2.44385040e+01 4.98998506e+01\n",
      "  8.37686196e+01]\n",
      " [1.49858501e-03 3.93858197e+00 4.69707371e+01 4.77300885e+01\n",
      "  7.57082871e+01]\n",
      " [7.97031531e-03 3.77210702e+00 4.24308706e+01 3.60608859e+01\n",
      "  8.28810026e+01]\n",
      " [7.24031104e-03 3.83236117e+00 2.99212962e+01 3.90516823e+01\n",
      "  8.18200473e+01]\n",
      " [4.25488431e-03 1.46426121e+00 3.42927754e+01 2.05763668e+01\n",
      "  8.70422020e+01]\n",
      " [1.67267073e-03 4.59455156e+00 2.04567867e+01 2.66391503e+01\n",
      "  6.54111049e+01]\n",
      " [3.09976868e-03 4.46898451e+00 3.25432128e+01 3.73522692e+01\n",
      "  5.08513080e+01]\n",
      " [6.06780337e-03 3.83175976e+00 3.94877518e+01 4.18767855e+01\n",
      "  9.28992019e+01]]\n"
     ]
    }
   ],
   "source": [
    "dimension = 5\n",
    "total_birds = 10\n",
    "max_iterations = 5\n",
    "ssa = SSA_new(dimension=dimension, total_birds=total_birds, maximum_iterations=max_iterations)\n",
    "\n",
    "lower_bound = [0.0001, 1, 20, 20, 50]\n",
    "upper_bound = [0.01, 5, 50, 50, 100]\n",
    "\n",
    "population = ssa.initialize_populations(lower_bound=lower_bound, upper_bound=upper_bound)\n",
    "\n",
    "mse_vals_trial = []\n",
    "population_trials = []\n",
    "\n",
    "for i in range(max_iterations):\n",
    "    mse_vals = train_model(population)\n",
    "    print(\"===================== Iteration \" + str(i) + \" =========================\")\n",
    "    print(mse_vals)\n",
    "    mse_vals_trial.append(mse_vals)\n",
    "    population = get_new_population(ssa, population, mse_vals, lower_bound=lower_bound, upper_bound=upper_bound)\n",
    "    print(\"===================== New Population \" + \" =========================\")\n",
    "    print(population)\n",
    "    population_trials.append(population)"
   ]
  },
  {
   "cell_type": "code",
   "execution_count": 175,
   "id": "ec04fb40",
   "metadata": {},
   "outputs": [
    {
     "data": {
      "text/plain": [
       "[[array([0.26383072], dtype=float32),\n",
       "  array([0.21036917], dtype=float32),\n",
       "  array([0.28235334], dtype=float32),\n",
       "  array([0.5008182], dtype=float32),\n",
       "  array([0.3229772], dtype=float32),\n",
       "  array([0.3977326], dtype=float32),\n",
       "  array([0.41356224], dtype=float32),\n",
       "  array([0.24496287], dtype=float32),\n",
       "  array([0.4587565], dtype=float32),\n",
       "  array([0.2937598], dtype=float32)],\n",
       " [array([0.42803812], dtype=float32),\n",
       "  array([0.2748334], dtype=float32),\n",
       "  array([0.35298187], dtype=float32),\n",
       "  array([0.42002594], dtype=float32),\n",
       "  array([0.2767299], dtype=float32),\n",
       "  array([0.18704458], dtype=float32),\n",
       "  array([0.18397796], dtype=float32),\n",
       "  array([0.2677324], dtype=float32),\n",
       "  array([0.26998937], dtype=float32),\n",
       "  array([0.41944915], dtype=float32)],\n",
       " [array([0.5146933], dtype=float32),\n",
       "  array([0.1630953], dtype=float32),\n",
       "  array([0.32690898], dtype=float32),\n",
       "  array([0.50750333], dtype=float32),\n",
       "  array([0.2207385], dtype=float32),\n",
       "  array([0.2975065], dtype=float32),\n",
       "  array([0.2795158], dtype=float32),\n",
       "  array([0.28826892], dtype=float32),\n",
       "  array([0.18297888], dtype=float32),\n",
       "  array([0.21771102], dtype=float32)],\n",
       " [array([0.4231792], dtype=float32),\n",
       "  array([0.42530262], dtype=float32),\n",
       "  array([0.27169842], dtype=float32),\n",
       "  array([0.46039054], dtype=float32),\n",
       "  array([0.25830805], dtype=float32),\n",
       "  array([0.27596265], dtype=float32),\n",
       "  array([0.24596274], dtype=float32),\n",
       "  array([0.53729475], dtype=float32),\n",
       "  array([0.27398607], dtype=float32),\n",
       "  array([0.19923238], dtype=float32)],\n",
       " [array([0.2495167], dtype=float32),\n",
       "  array([0.24703644], dtype=float32),\n",
       "  array([0.3001436], dtype=float32),\n",
       "  array([0.38513604], dtype=float32),\n",
       "  array([0.29987794], dtype=float32),\n",
       "  array([0.22750616], dtype=float32),\n",
       "  array([0.38275096], dtype=float32),\n",
       "  array([0.22785883], dtype=float32),\n",
       "  array([0.41617596], dtype=float32),\n",
       "  array([0.46294406], dtype=float32)]]"
      ]
     },
     "execution_count": 175,
     "metadata": {},
     "output_type": "execute_result"
    }
   ],
   "source": [
    "mse_vals_trial"
   ]
  },
  {
   "cell_type": "markdown",
   "id": "81a80916",
   "metadata": {},
   "source": [
    "# Reflection method to update values"
   ]
  },
  {
   "cell_type": "code",
   "execution_count": 189,
   "id": "08aa525c",
   "metadata": {},
   "outputs": [],
   "source": [
    "def reflect(position, lower_bound, upper_bound):\n",
    "    new_position = position\n",
    "    for i in range(len(position)):\n",
    "        if position[i] < lower_bound[i]:\n",
    "            new_position[i] = lower_bound[i] + (lower_bound[i] - position[i])\n",
    "        elif position[i] > upper_bound[i]:\n",
    "            new_position[i] = upper_bound[i] - (position[i] - upper_bound[i])\n",
    "    return new_position"
   ]
  },
  {
   "cell_type": "code",
   "execution_count": 190,
   "id": "b75059b5",
   "metadata": {},
   "outputs": [],
   "source": [
    "def get_new_population_reflect(ssa, population, mse, lower_bound, upper_bound):\n",
    "    producers, monitors, scroungers = ssa.compare_mse_and_decide_updation(mse)\n",
    "    best_bird, worst_bird = ssa.find_best_worst_bird(population=population, mse=mse)\n",
    "    \n",
    "    for producer in producers:\n",
    "        new_location = ssa.update_producers(bird_index=producer, bird_matrix=population)\n",
    "        new_location = reflect(position=new_location, lower_bound=lower_bound, upper_bound=upper_bound)\n",
    "        population[producer] = new_location\n",
    "        \n",
    "    for monitor in monitors:\n",
    "        new_location = ssa.update_monitor(bird_index=monitor, bird_matrix=population, \n",
    "                                      worst_bird=worst_bird, fitness_matrix=initial_mse, best_bird=best_bird)\n",
    "        new_location = reflect(position=new_location, lower_bound=lower_bound, upper_bound=upper_bound)\n",
    "        population[monitor] = new_location\n",
    "        \n",
    "    for scrounger in scroungers:\n",
    "        new_location = ssa.update_scrounger(worst_bird=worst_bird, bird_index=scrounger, best_bird=best_bird, \n",
    "                                        bird_matrix=population)\n",
    "        new_location = reflect(position=new_location, lower_bound=lower_bound, upper_bound=upper_bound)\n",
    "        population[scrounger] = new_location\n",
    "        \n",
    "    return population"
   ]
  },
  {
   "cell_type": "code",
   "execution_count": 192,
   "id": "32fc1b52",
   "metadata": {},
   "outputs": [
    {
     "name": "stdout",
     "output_type": "stream",
     "text": [
      "[[8.04852941e-03 4.18248130e+00 4.21533768e+01 3.72019720e+01\n",
      "  9.12718396e+01]\n",
      " [7.23377413e-03 3.29219477e+00 4.69345554e+01 3.93850540e+01\n",
      "  9.61983588e+01]\n",
      " [1.62545780e-03 1.37147678e+00 3.81619348e+01 2.48218545e+01\n",
      "  5.72001095e+01]\n",
      " [3.70602160e-03 2.55111267e+00 3.54373722e+01 2.48256627e+01\n",
      "  5.89303630e+01]\n",
      " [7.25697718e-03 3.83016380e+00 4.11922817e+01 4.28187548e+01\n",
      "  8.94340214e+01]\n",
      " [7.33404171e-03 2.93484549e+00 4.37376743e+01 4.08187956e+01\n",
      "  9.79360818e+01]\n",
      " [5.17543266e-01 2.49394271e+00 4.04761177e+01 4.08011423e+01\n",
      "  1.00737405e+02]\n",
      " [1.33538044e-04 1.96739599e+00 3.91626785e+01 3.91722147e+01\n",
      "  9.87865605e+01]\n",
      " [1.38875039e-04 1.97348557e+00 3.93189888e+01 3.92586074e+01\n",
      "  9.86569725e+01]\n",
      " [5.17503637e-01 2.51349299e+00 4.05117983e+01 4.05938795e+01\n",
      "  1.00891781e+02]]\n"
     ]
    }
   ],
   "source": [
    "lower_bound = [0.0001, 1, 20, 20, 50]\n",
    "upper_bound = [0.01, 5, 50, 50, 100]\n",
    "pop = get_new_population_reflect(ssa, initial_population, initial_mse, lower_bound, upper_bound)\n",
    "print(pop)"
   ]
  },
  {
   "cell_type": "code",
   "execution_count": 193,
   "id": "4aeac8e3",
   "metadata": {},
   "outputs": [
    {
     "name": "stdout",
     "output_type": "stream",
     "text": [
      "Inititializing parameters\n",
      "Epoch 1/3\n",
      "157/157 [==============================] - 253s 2s/step - loss: 0.7402 - accuracy: 0.4984 - val_loss: 0.6991 - val_accuracy: 0.5074\n",
      "Epoch 2/3\n",
      "157/157 [==============================] - 254s 2s/step - loss: 0.6967 - accuracy: 0.5043 - val_loss: 0.6988 - val_accuracy: 0.4928\n",
      "Epoch 3/3\n",
      "157/157 [==============================] - 256s 2s/step - loss: 0.6980 - accuracy: 0.4977 - val_loss: 0.6955 - val_accuracy: 0.4946\n",
      "Epoch 1/4\n",
      "157/157 [==============================] - 299s 2s/step - loss: 0.7393 - accuracy: 0.4949 - val_loss: 0.7082 - val_accuracy: 0.4946\n",
      "Epoch 2/4\n",
      "157/157 [==============================] - 286s 2s/step - loss: 0.7071 - accuracy: 0.5017 - val_loss: 0.7385 - val_accuracy: 0.5054\n",
      "Epoch 3/4\n",
      "157/157 [==============================] - 282s 2s/step - loss: 0.6973 - accuracy: 0.5006 - val_loss: 0.6931 - val_accuracy: 0.5054\n",
      "Epoch 4/4\n",
      "157/157 [==============================] - 295s 2s/step - loss: 0.6991 - accuracy: 0.5022 - val_loss: 0.6931 - val_accuracy: 0.5054\n",
      "Epoch 1/2\n",
      "157/157 [==============================] - 233s 1s/step - loss: 0.7677 - accuracy: 0.4931 - val_loss: 0.6931 - val_accuracy: 0.5050\n",
      "Epoch 2/2\n",
      "157/157 [==============================] - 206s 1s/step - loss: 0.6969 - accuracy: 0.4999 - val_loss: 0.6970 - val_accuracy: 0.4946\n",
      "157/157 [==============================] - 199s 1s/step - loss: 0.5534 - accuracy: 0.7147 - val_loss: 0.4358 - val_accuracy: 0.7884\n",
      "Epoch 1/3\n",
      "157/157 [==============================] - 218s 1s/step - loss: 0.7482 - accuracy: 0.5029 - val_loss: 0.6943 - val_accuracy: 0.5054\n",
      "Epoch 2/3\n",
      "157/157 [==============================] - 201s 1s/step - loss: 0.6987 - accuracy: 0.4988 - val_loss: 0.6986 - val_accuracy: 0.4946\n",
      "Epoch 3/3\n",
      "157/157 [==============================] - 200s 1s/step - loss: 0.6996 - accuracy: 0.4971 - val_loss: 0.7090 - val_accuracy: 0.4946\n",
      "===================== Iteration 0 =========================\n",
      "[array([0.28086594], dtype=float32), array([0.24586597], dtype=float32), array([0.29046267], dtype=float32), array([0.23594122], dtype=float32), array([0.34031418], dtype=float32)]\n",
      "===================== New Population  =========================\n",
      "[[ 7.45779616e-03  3.68245484e+00  2.61097174e+01  4.32403390e+01\n",
      "   6.58825902e+01]\n",
      " [-9.49652125e-02  4.51190246e+00  4.37942024e+01  3.93694609e+01\n",
      "   5.48685294e+01]\n",
      " [ 6.68560390e-03  4.12531536e+00  2.62644051e+01  4.02267902e+01\n",
      "   6.18817542e+01]\n",
      " [-8.90427383e-02  2.05726074e+00  2.29794244e+01  2.99482661e+01\n",
      "   7.48329144e+01]\n",
      " [-8.71099774e-02  1.90144812e+00  3.99015775e+01  3.99321802e+01\n",
      "   9.96771100e+01]]\n",
      "Epoch 1/3\n",
      "157/157 [==============================] - 226s 1s/step - loss: 0.7562 - accuracy: 0.4995 - val_loss: 0.6979 - val_accuracy: 0.5054\n",
      "Epoch 2/3\n",
      "157/157 [==============================] - 220s 1s/step - loss: 0.6986 - accuracy: 0.5006 - val_loss: 0.6933 - val_accuracy: 0.4946\n",
      "Epoch 3/3\n",
      "157/157 [==============================] - 221s 1s/step - loss: 0.6980 - accuracy: 0.5024 - val_loss: 0.6938 - val_accuracy: 0.5054\n",
      "Epoch 1/4\n",
      "157/157 [==============================] - 293s 2s/step - loss: 473.5287 - accuracy: 0.5000 - val_loss: 953.4077 - val_accuracy: 0.5050\n",
      "Epoch 2/4\n",
      "157/157 [==============================] - 288s 2s/step - loss: 1443.1708 - accuracy: 0.4989 - val_loss: 1906.1311 - val_accuracy: 0.5050\n",
      "Epoch 3/4\n",
      "157/157 [==============================] - 289s 2s/step - loss: 2406.7849 - accuracy: 0.4989 - val_loss: 2858.1438 - val_accuracy: 0.5050\n",
      "Epoch 4/4\n",
      "157/157 [==============================] - 296s 2s/step - loss: 3366.6340 - accuracy: 0.4990 - val_loss: 3806.6416 - val_accuracy: 0.5050\n",
      "Epoch 1/4\n",
      "157/157 [==============================] - 213s 1s/step - loss: 0.7444 - accuracy: 0.5069 - val_loss: 0.8041 - val_accuracy: 0.4946\n",
      "Epoch 2/4\n",
      "157/157 [==============================] - 207s 1s/step - loss: 0.7027 - accuracy: 0.4984 - val_loss: 0.6967 - val_accuracy: 0.5054\n",
      "Epoch 3/4\n",
      "157/157 [==============================] - 207s 1s/step - loss: 0.6984 - accuracy: 0.5007 - val_loss: 0.7037 - val_accuracy: 0.5054\n",
      "Epoch 4/4\n",
      "108/157 [===================>..........] - ETA: 1:00 - loss: 0.6960 - accuracy: 0.5033"
     ]
    },
    {
     "ename": "KeyboardInterrupt",
     "evalue": "",
     "output_type": "error",
     "traceback": [
      "\u001b[0;31m---------------------------------------------------------------------------\u001b[0m",
      "\u001b[0;31mKeyboardInterrupt\u001b[0m                         Traceback (most recent call last)",
      "Cell \u001b[0;32mIn[193], line 15\u001b[0m\n\u001b[1;32m     12\u001b[0m population_trials \u001b[38;5;241m=\u001b[39m []\n\u001b[1;32m     14\u001b[0m \u001b[38;5;28;01mfor\u001b[39;00m i \u001b[38;5;129;01min\u001b[39;00m \u001b[38;5;28mrange\u001b[39m(max_iterations):\n\u001b[0;32m---> 15\u001b[0m     mse_vals \u001b[38;5;241m=\u001b[39m \u001b[43mtrain_model\u001b[49m\u001b[43m(\u001b[49m\u001b[43mpopulation\u001b[49m\u001b[43m)\u001b[49m\n\u001b[1;32m     16\u001b[0m     \u001b[38;5;28mprint\u001b[39m(\u001b[38;5;124m\"\u001b[39m\u001b[38;5;124m===================== Iteration \u001b[39m\u001b[38;5;124m\"\u001b[39m \u001b[38;5;241m+\u001b[39m \u001b[38;5;28mstr\u001b[39m(i) \u001b[38;5;241m+\u001b[39m \u001b[38;5;124m\"\u001b[39m\u001b[38;5;124m =========================\u001b[39m\u001b[38;5;124m\"\u001b[39m)\n\u001b[1;32m     17\u001b[0m     \u001b[38;5;28mprint\u001b[39m(mse_vals)\n",
      "Cell \u001b[0;32mIn[166], line 13\u001b[0m, in \u001b[0;36mtrain_model\u001b[0;34m(population)\u001b[0m\n\u001b[1;32m     10\u001b[0m     model \u001b[38;5;241m=\u001b[39m Model(learning_rate\u001b[38;5;241m=\u001b[39mlearning_rate, epochs\u001b[38;5;241m=\u001b[39mepochs, neuron_1\u001b[38;5;241m=\u001b[39mneuron_1, neuron_2\u001b[38;5;241m=\u001b[39mneuron_2, \n\u001b[1;32m     11\u001b[0m                   neuron_3\u001b[38;5;241m=\u001b[39mneuron_3)\n\u001b[1;32m     12\u001b[0m     trial_model \u001b[38;5;241m=\u001b[39m model\u001b[38;5;241m.\u001b[39mbuild_model(vocab_size\u001b[38;5;241m=\u001b[39mvocab_size, embedding_matrix\u001b[38;5;241m=\u001b[39membedding_matrix)\n\u001b[0;32m---> 13\u001b[0m     mse \u001b[38;5;241m=\u001b[39m \u001b[43mmodel\u001b[49m\u001b[38;5;241;43m.\u001b[39;49m\u001b[43mtrain_test_model\u001b[49m\u001b[43m(\u001b[49m\u001b[43mmodel\u001b[49m\u001b[38;5;241;43m=\u001b[39;49m\u001b[43mtrial_model\u001b[49m\u001b[43m,\u001b[49m\u001b[43m \u001b[49m\u001b[43mx_train\u001b[49m\u001b[38;5;241;43m=\u001b[39;49m\u001b[43mx_train\u001b[49m\u001b[43m,\u001b[49m\u001b[43m \u001b[49m\u001b[43mx_test\u001b[49m\u001b[38;5;241;43m=\u001b[39;49m\u001b[43mx_text\u001b[49m\u001b[43m,\u001b[49m\u001b[43m \u001b[49m\u001b[43my_test\u001b[49m\u001b[38;5;241;43m=\u001b[39;49m\u001b[43my_test\u001b[49m\u001b[43m,\u001b[49m\u001b[43m \u001b[49m\n\u001b[1;32m     14\u001b[0m \u001b[43m                                 \u001b[49m\u001b[43my_train\u001b[49m\u001b[38;5;241;43m=\u001b[39;49m\u001b[43my_train\u001b[49m\u001b[43m)\u001b[49m\n\u001b[1;32m     16\u001b[0m     mse_vals\u001b[38;5;241m.\u001b[39mappend(mse)\n\u001b[1;32m     18\u001b[0m \u001b[38;5;28;01mreturn\u001b[39;00m mse_vals\n",
      "Cell \u001b[0;32mIn[6], line 32\u001b[0m, in \u001b[0;36mModel.train_test_model\u001b[0;34m(self, model, x_train, y_train, x_test, y_test)\u001b[0m\n\u001b[1;32m     31\u001b[0m \u001b[38;5;28;01mdef\u001b[39;00m \u001b[38;5;21mtrain_test_model\u001b[39m(\u001b[38;5;28mself\u001b[39m, model, x_train, y_train, x_test, y_test):\n\u001b[0;32m---> 32\u001b[0m     history \u001b[38;5;241m=\u001b[39m \u001b[43mmodel\u001b[49m\u001b[38;5;241;43m.\u001b[39;49m\u001b[43mfit\u001b[49m\u001b[43m(\u001b[49m\u001b[43mx_train\u001b[49m\u001b[43m,\u001b[49m\u001b[43m \u001b[49m\u001b[43my_train\u001b[49m\u001b[43m,\u001b[49m\u001b[43m \u001b[49m\u001b[43mbatch_size\u001b[49m\u001b[43m \u001b[49m\u001b[38;5;241;43m=\u001b[39;49m\u001b[43m \u001b[49m\u001b[38;5;241;43m128\u001b[39;49m\u001b[43m,\u001b[49m\u001b[43m \u001b[49m\u001b[43mverbose\u001b[49m\u001b[43m \u001b[49m\u001b[38;5;241;43m=\u001b[39;49m\u001b[43m \u001b[49m\u001b[38;5;241;43m1\u001b[39;49m\u001b[43m,\u001b[49m\u001b[43m \u001b[49m\u001b[43mepochs\u001b[49m\u001b[43m \u001b[49m\u001b[38;5;241;43m=\u001b[39;49m\u001b[43m \u001b[49m\u001b[38;5;28;43mself\u001b[39;49m\u001b[38;5;241;43m.\u001b[39;49m\u001b[43mepochs\u001b[49m\u001b[43m,\u001b[49m\u001b[43m \u001b[49m\u001b[43mvalidation_split\u001b[49m\u001b[43m \u001b[49m\u001b[38;5;241;43m=\u001b[39;49m\u001b[43m \u001b[49m\u001b[38;5;241;43m0.2\u001b[39;49m\u001b[43m)\u001b[49m\n\u001b[1;32m     33\u001b[0m     test_output \u001b[38;5;241m=\u001b[39m model\u001b[38;5;241m.\u001b[39mpredict(x_test)\n\u001b[1;32m     34\u001b[0m     mse \u001b[38;5;241m=\u001b[39m \u001b[38;5;28msum\u001b[39m([(x\u001b[38;5;241m*\u001b[39m\u001b[38;5;241m*\u001b[39m\u001b[38;5;241m2\u001b[39m)\u001b[38;5;241m*\u001b[39m\u001b[38;5;241m1\u001b[39m\u001b[38;5;241m/\u001b[39m\u001b[38;5;28mlen\u001b[39m(x_test) \u001b[38;5;28;01mfor\u001b[39;00m x \u001b[38;5;129;01min\u001b[39;00m test_output])\n",
      "File \u001b[0;32m~/opt/miniconda3/envs/m1_no_gpu/lib/python3.8/site-packages/keras/utils/traceback_utils.py:64\u001b[0m, in \u001b[0;36mfilter_traceback.<locals>.error_handler\u001b[0;34m(*args, **kwargs)\u001b[0m\n\u001b[1;32m     62\u001b[0m filtered_tb \u001b[38;5;241m=\u001b[39m \u001b[38;5;28;01mNone\u001b[39;00m\n\u001b[1;32m     63\u001b[0m \u001b[38;5;28;01mtry\u001b[39;00m:\n\u001b[0;32m---> 64\u001b[0m   \u001b[38;5;28;01mreturn\u001b[39;00m \u001b[43mfn\u001b[49m\u001b[43m(\u001b[49m\u001b[38;5;241;43m*\u001b[39;49m\u001b[43margs\u001b[49m\u001b[43m,\u001b[49m\u001b[43m \u001b[49m\u001b[38;5;241;43m*\u001b[39;49m\u001b[38;5;241;43m*\u001b[39;49m\u001b[43mkwargs\u001b[49m\u001b[43m)\u001b[49m\n\u001b[1;32m     65\u001b[0m \u001b[38;5;28;01mexcept\u001b[39;00m \u001b[38;5;167;01mException\u001b[39;00m \u001b[38;5;28;01mas\u001b[39;00m e:  \u001b[38;5;66;03m# pylint: disable=broad-except\u001b[39;00m\n\u001b[1;32m     66\u001b[0m   filtered_tb \u001b[38;5;241m=\u001b[39m _process_traceback_frames(e\u001b[38;5;241m.\u001b[39m__traceback__)\n",
      "File \u001b[0;32m~/opt/miniconda3/envs/m1_no_gpu/lib/python3.8/site-packages/keras/engine/training.py:1216\u001b[0m, in \u001b[0;36mModel.fit\u001b[0;34m(self, x, y, batch_size, epochs, verbose, callbacks, validation_split, validation_data, shuffle, class_weight, sample_weight, initial_epoch, steps_per_epoch, validation_steps, validation_batch_size, validation_freq, max_queue_size, workers, use_multiprocessing)\u001b[0m\n\u001b[1;32m   1209\u001b[0m \u001b[38;5;28;01mwith\u001b[39;00m tf\u001b[38;5;241m.\u001b[39mprofiler\u001b[38;5;241m.\u001b[39mexperimental\u001b[38;5;241m.\u001b[39mTrace(\n\u001b[1;32m   1210\u001b[0m     \u001b[38;5;124m'\u001b[39m\u001b[38;5;124mtrain\u001b[39m\u001b[38;5;124m'\u001b[39m,\n\u001b[1;32m   1211\u001b[0m     epoch_num\u001b[38;5;241m=\u001b[39mepoch,\n\u001b[1;32m   1212\u001b[0m     step_num\u001b[38;5;241m=\u001b[39mstep,\n\u001b[1;32m   1213\u001b[0m     batch_size\u001b[38;5;241m=\u001b[39mbatch_size,\n\u001b[1;32m   1214\u001b[0m     _r\u001b[38;5;241m=\u001b[39m\u001b[38;5;241m1\u001b[39m):\n\u001b[1;32m   1215\u001b[0m   callbacks\u001b[38;5;241m.\u001b[39mon_train_batch_begin(step)\n\u001b[0;32m-> 1216\u001b[0m   tmp_logs \u001b[38;5;241m=\u001b[39m \u001b[38;5;28;43mself\u001b[39;49m\u001b[38;5;241;43m.\u001b[39;49m\u001b[43mtrain_function\u001b[49m\u001b[43m(\u001b[49m\u001b[43miterator\u001b[49m\u001b[43m)\u001b[49m\n\u001b[1;32m   1217\u001b[0m   \u001b[38;5;28;01mif\u001b[39;00m data_handler\u001b[38;5;241m.\u001b[39mshould_sync:\n\u001b[1;32m   1218\u001b[0m     context\u001b[38;5;241m.\u001b[39masync_wait()\n",
      "File \u001b[0;32m~/opt/miniconda3/envs/m1_no_gpu/lib/python3.8/site-packages/tensorflow/python/util/traceback_utils.py:150\u001b[0m, in \u001b[0;36mfilter_traceback.<locals>.error_handler\u001b[0;34m(*args, **kwargs)\u001b[0m\n\u001b[1;32m    148\u001b[0m filtered_tb \u001b[38;5;241m=\u001b[39m \u001b[38;5;28;01mNone\u001b[39;00m\n\u001b[1;32m    149\u001b[0m \u001b[38;5;28;01mtry\u001b[39;00m:\n\u001b[0;32m--> 150\u001b[0m   \u001b[38;5;28;01mreturn\u001b[39;00m \u001b[43mfn\u001b[49m\u001b[43m(\u001b[49m\u001b[38;5;241;43m*\u001b[39;49m\u001b[43margs\u001b[49m\u001b[43m,\u001b[49m\u001b[43m \u001b[49m\u001b[38;5;241;43m*\u001b[39;49m\u001b[38;5;241;43m*\u001b[39;49m\u001b[43mkwargs\u001b[49m\u001b[43m)\u001b[49m\n\u001b[1;32m    151\u001b[0m \u001b[38;5;28;01mexcept\u001b[39;00m \u001b[38;5;167;01mException\u001b[39;00m \u001b[38;5;28;01mas\u001b[39;00m e:\n\u001b[1;32m    152\u001b[0m   filtered_tb \u001b[38;5;241m=\u001b[39m _process_traceback_frames(e\u001b[38;5;241m.\u001b[39m__traceback__)\n",
      "File \u001b[0;32m~/opt/miniconda3/envs/m1_no_gpu/lib/python3.8/site-packages/tensorflow/python/eager/def_function.py:910\u001b[0m, in \u001b[0;36mFunction.__call__\u001b[0;34m(self, *args, **kwds)\u001b[0m\n\u001b[1;32m    907\u001b[0m compiler \u001b[38;5;241m=\u001b[39m \u001b[38;5;124m\"\u001b[39m\u001b[38;5;124mxla\u001b[39m\u001b[38;5;124m\"\u001b[39m \u001b[38;5;28;01mif\u001b[39;00m \u001b[38;5;28mself\u001b[39m\u001b[38;5;241m.\u001b[39m_jit_compile \u001b[38;5;28;01melse\u001b[39;00m \u001b[38;5;124m\"\u001b[39m\u001b[38;5;124mnonXla\u001b[39m\u001b[38;5;124m\"\u001b[39m\n\u001b[1;32m    909\u001b[0m \u001b[38;5;28;01mwith\u001b[39;00m OptionalXlaContext(\u001b[38;5;28mself\u001b[39m\u001b[38;5;241m.\u001b[39m_jit_compile):\n\u001b[0;32m--> 910\u001b[0m   result \u001b[38;5;241m=\u001b[39m \u001b[38;5;28;43mself\u001b[39;49m\u001b[38;5;241;43m.\u001b[39;49m\u001b[43m_call\u001b[49m\u001b[43m(\u001b[49m\u001b[38;5;241;43m*\u001b[39;49m\u001b[43margs\u001b[49m\u001b[43m,\u001b[49m\u001b[43m \u001b[49m\u001b[38;5;241;43m*\u001b[39;49m\u001b[38;5;241;43m*\u001b[39;49m\u001b[43mkwds\u001b[49m\u001b[43m)\u001b[49m\n\u001b[1;32m    912\u001b[0m new_tracing_count \u001b[38;5;241m=\u001b[39m \u001b[38;5;28mself\u001b[39m\u001b[38;5;241m.\u001b[39mexperimental_get_tracing_count()\n\u001b[1;32m    913\u001b[0m without_tracing \u001b[38;5;241m=\u001b[39m (tracing_count \u001b[38;5;241m==\u001b[39m new_tracing_count)\n",
      "File \u001b[0;32m~/opt/miniconda3/envs/m1_no_gpu/lib/python3.8/site-packages/tensorflow/python/eager/def_function.py:942\u001b[0m, in \u001b[0;36mFunction._call\u001b[0;34m(self, *args, **kwds)\u001b[0m\n\u001b[1;32m    939\u001b[0m   \u001b[38;5;28mself\u001b[39m\u001b[38;5;241m.\u001b[39m_lock\u001b[38;5;241m.\u001b[39mrelease()\n\u001b[1;32m    940\u001b[0m   \u001b[38;5;66;03m# In this case we have created variables on the first call, so we run the\u001b[39;00m\n\u001b[1;32m    941\u001b[0m   \u001b[38;5;66;03m# defunned version which is guaranteed to never create variables.\u001b[39;00m\n\u001b[0;32m--> 942\u001b[0m   \u001b[38;5;28;01mreturn\u001b[39;00m \u001b[38;5;28;43mself\u001b[39;49m\u001b[38;5;241;43m.\u001b[39;49m\u001b[43m_stateless_fn\u001b[49m\u001b[43m(\u001b[49m\u001b[38;5;241;43m*\u001b[39;49m\u001b[43margs\u001b[49m\u001b[43m,\u001b[49m\u001b[43m \u001b[49m\u001b[38;5;241;43m*\u001b[39;49m\u001b[38;5;241;43m*\u001b[39;49m\u001b[43mkwds\u001b[49m\u001b[43m)\u001b[49m  \u001b[38;5;66;03m# pylint: disable=not-callable\u001b[39;00m\n\u001b[1;32m    943\u001b[0m \u001b[38;5;28;01melif\u001b[39;00m \u001b[38;5;28mself\u001b[39m\u001b[38;5;241m.\u001b[39m_stateful_fn \u001b[38;5;129;01mis\u001b[39;00m \u001b[38;5;129;01mnot\u001b[39;00m \u001b[38;5;28;01mNone\u001b[39;00m:\n\u001b[1;32m    944\u001b[0m   \u001b[38;5;66;03m# Release the lock early so that multiple threads can perform the call\u001b[39;00m\n\u001b[1;32m    945\u001b[0m   \u001b[38;5;66;03m# in parallel.\u001b[39;00m\n\u001b[1;32m    946\u001b[0m   \u001b[38;5;28mself\u001b[39m\u001b[38;5;241m.\u001b[39m_lock\u001b[38;5;241m.\u001b[39mrelease()\n",
      "File \u001b[0;32m~/opt/miniconda3/envs/m1_no_gpu/lib/python3.8/site-packages/tensorflow/python/eager/function.py:3130\u001b[0m, in \u001b[0;36mFunction.__call__\u001b[0;34m(self, *args, **kwargs)\u001b[0m\n\u001b[1;32m   3127\u001b[0m \u001b[38;5;28;01mwith\u001b[39;00m \u001b[38;5;28mself\u001b[39m\u001b[38;5;241m.\u001b[39m_lock:\n\u001b[1;32m   3128\u001b[0m   (graph_function,\n\u001b[1;32m   3129\u001b[0m    filtered_flat_args) \u001b[38;5;241m=\u001b[39m \u001b[38;5;28mself\u001b[39m\u001b[38;5;241m.\u001b[39m_maybe_define_function(args, kwargs)\n\u001b[0;32m-> 3130\u001b[0m \u001b[38;5;28;01mreturn\u001b[39;00m \u001b[43mgraph_function\u001b[49m\u001b[38;5;241;43m.\u001b[39;49m\u001b[43m_call_flat\u001b[49m\u001b[43m(\u001b[49m\n\u001b[1;32m   3131\u001b[0m \u001b[43m    \u001b[49m\u001b[43mfiltered_flat_args\u001b[49m\u001b[43m,\u001b[49m\u001b[43m \u001b[49m\u001b[43mcaptured_inputs\u001b[49m\u001b[38;5;241;43m=\u001b[39;49m\u001b[43mgraph_function\u001b[49m\u001b[38;5;241;43m.\u001b[39;49m\u001b[43mcaptured_inputs\u001b[49m\u001b[43m)\u001b[49m\n",
      "File \u001b[0;32m~/opt/miniconda3/envs/m1_no_gpu/lib/python3.8/site-packages/tensorflow/python/eager/function.py:1959\u001b[0m, in \u001b[0;36mConcreteFunction._call_flat\u001b[0;34m(self, args, captured_inputs, cancellation_manager)\u001b[0m\n\u001b[1;32m   1955\u001b[0m possible_gradient_type \u001b[38;5;241m=\u001b[39m gradients_util\u001b[38;5;241m.\u001b[39mPossibleTapeGradientTypes(args)\n\u001b[1;32m   1956\u001b[0m \u001b[38;5;28;01mif\u001b[39;00m (possible_gradient_type \u001b[38;5;241m==\u001b[39m gradients_util\u001b[38;5;241m.\u001b[39mPOSSIBLE_GRADIENT_TYPES_NONE\n\u001b[1;32m   1957\u001b[0m     \u001b[38;5;129;01mand\u001b[39;00m executing_eagerly):\n\u001b[1;32m   1958\u001b[0m   \u001b[38;5;66;03m# No tape is watching; skip to running the function.\u001b[39;00m\n\u001b[0;32m-> 1959\u001b[0m   \u001b[38;5;28;01mreturn\u001b[39;00m \u001b[38;5;28mself\u001b[39m\u001b[38;5;241m.\u001b[39m_build_call_outputs(\u001b[38;5;28;43mself\u001b[39;49m\u001b[38;5;241;43m.\u001b[39;49m\u001b[43m_inference_function\u001b[49m\u001b[38;5;241;43m.\u001b[39;49m\u001b[43mcall\u001b[49m\u001b[43m(\u001b[49m\n\u001b[1;32m   1960\u001b[0m \u001b[43m      \u001b[49m\u001b[43mctx\u001b[49m\u001b[43m,\u001b[49m\u001b[43m \u001b[49m\u001b[43margs\u001b[49m\u001b[43m,\u001b[49m\u001b[43m \u001b[49m\u001b[43mcancellation_manager\u001b[49m\u001b[38;5;241;43m=\u001b[39;49m\u001b[43mcancellation_manager\u001b[49m\u001b[43m)\u001b[49m)\n\u001b[1;32m   1961\u001b[0m forward_backward \u001b[38;5;241m=\u001b[39m \u001b[38;5;28mself\u001b[39m\u001b[38;5;241m.\u001b[39m_select_forward_and_backward_functions(\n\u001b[1;32m   1962\u001b[0m     args,\n\u001b[1;32m   1963\u001b[0m     possible_gradient_type,\n\u001b[1;32m   1964\u001b[0m     executing_eagerly)\n\u001b[1;32m   1965\u001b[0m forward_function, args_with_tangents \u001b[38;5;241m=\u001b[39m forward_backward\u001b[38;5;241m.\u001b[39mforward()\n",
      "File \u001b[0;32m~/opt/miniconda3/envs/m1_no_gpu/lib/python3.8/site-packages/tensorflow/python/eager/function.py:598\u001b[0m, in \u001b[0;36m_EagerDefinedFunction.call\u001b[0;34m(self, ctx, args, cancellation_manager)\u001b[0m\n\u001b[1;32m    596\u001b[0m \u001b[38;5;28;01mwith\u001b[39;00m _InterpolateFunctionError(\u001b[38;5;28mself\u001b[39m):\n\u001b[1;32m    597\u001b[0m   \u001b[38;5;28;01mif\u001b[39;00m cancellation_manager \u001b[38;5;129;01mis\u001b[39;00m \u001b[38;5;28;01mNone\u001b[39;00m:\n\u001b[0;32m--> 598\u001b[0m     outputs \u001b[38;5;241m=\u001b[39m \u001b[43mexecute\u001b[49m\u001b[38;5;241;43m.\u001b[39;49m\u001b[43mexecute\u001b[49m\u001b[43m(\u001b[49m\n\u001b[1;32m    599\u001b[0m \u001b[43m        \u001b[49m\u001b[38;5;28;43mstr\u001b[39;49m\u001b[43m(\u001b[49m\u001b[38;5;28;43mself\u001b[39;49m\u001b[38;5;241;43m.\u001b[39;49m\u001b[43msignature\u001b[49m\u001b[38;5;241;43m.\u001b[39;49m\u001b[43mname\u001b[49m\u001b[43m)\u001b[49m\u001b[43m,\u001b[49m\n\u001b[1;32m    600\u001b[0m \u001b[43m        \u001b[49m\u001b[43mnum_outputs\u001b[49m\u001b[38;5;241;43m=\u001b[39;49m\u001b[38;5;28;43mself\u001b[39;49m\u001b[38;5;241;43m.\u001b[39;49m\u001b[43m_num_outputs\u001b[49m\u001b[43m,\u001b[49m\n\u001b[1;32m    601\u001b[0m \u001b[43m        \u001b[49m\u001b[43minputs\u001b[49m\u001b[38;5;241;43m=\u001b[39;49m\u001b[43margs\u001b[49m\u001b[43m,\u001b[49m\n\u001b[1;32m    602\u001b[0m \u001b[43m        \u001b[49m\u001b[43mattrs\u001b[49m\u001b[38;5;241;43m=\u001b[39;49m\u001b[43mattrs\u001b[49m\u001b[43m,\u001b[49m\n\u001b[1;32m    603\u001b[0m \u001b[43m        \u001b[49m\u001b[43mctx\u001b[49m\u001b[38;5;241;43m=\u001b[39;49m\u001b[43mctx\u001b[49m\u001b[43m)\u001b[49m\n\u001b[1;32m    604\u001b[0m   \u001b[38;5;28;01melse\u001b[39;00m:\n\u001b[1;32m    605\u001b[0m     outputs \u001b[38;5;241m=\u001b[39m execute\u001b[38;5;241m.\u001b[39mexecute_with_cancellation(\n\u001b[1;32m    606\u001b[0m         \u001b[38;5;28mstr\u001b[39m(\u001b[38;5;28mself\u001b[39m\u001b[38;5;241m.\u001b[39msignature\u001b[38;5;241m.\u001b[39mname),\n\u001b[1;32m    607\u001b[0m         num_outputs\u001b[38;5;241m=\u001b[39m\u001b[38;5;28mself\u001b[39m\u001b[38;5;241m.\u001b[39m_num_outputs,\n\u001b[0;32m   (...)\u001b[0m\n\u001b[1;32m    610\u001b[0m         ctx\u001b[38;5;241m=\u001b[39mctx,\n\u001b[1;32m    611\u001b[0m         cancellation_manager\u001b[38;5;241m=\u001b[39mcancellation_manager)\n",
      "File \u001b[0;32m~/opt/miniconda3/envs/m1_no_gpu/lib/python3.8/site-packages/tensorflow/python/eager/execute.py:58\u001b[0m, in \u001b[0;36mquick_execute\u001b[0;34m(op_name, num_outputs, inputs, attrs, ctx, name)\u001b[0m\n\u001b[1;32m     56\u001b[0m \u001b[38;5;28;01mtry\u001b[39;00m:\n\u001b[1;32m     57\u001b[0m   ctx\u001b[38;5;241m.\u001b[39mensure_initialized()\n\u001b[0;32m---> 58\u001b[0m   tensors \u001b[38;5;241m=\u001b[39m \u001b[43mpywrap_tfe\u001b[49m\u001b[38;5;241;43m.\u001b[39;49m\u001b[43mTFE_Py_Execute\u001b[49m\u001b[43m(\u001b[49m\u001b[43mctx\u001b[49m\u001b[38;5;241;43m.\u001b[39;49m\u001b[43m_handle\u001b[49m\u001b[43m,\u001b[49m\u001b[43m \u001b[49m\u001b[43mdevice_name\u001b[49m\u001b[43m,\u001b[49m\u001b[43m \u001b[49m\u001b[43mop_name\u001b[49m\u001b[43m,\u001b[49m\n\u001b[1;32m     59\u001b[0m \u001b[43m                                      \u001b[49m\u001b[43minputs\u001b[49m\u001b[43m,\u001b[49m\u001b[43m \u001b[49m\u001b[43mattrs\u001b[49m\u001b[43m,\u001b[49m\u001b[43m \u001b[49m\u001b[43mnum_outputs\u001b[49m\u001b[43m)\u001b[49m\n\u001b[1;32m     60\u001b[0m \u001b[38;5;28;01mexcept\u001b[39;00m core\u001b[38;5;241m.\u001b[39m_NotOkStatusException \u001b[38;5;28;01mas\u001b[39;00m e:\n\u001b[1;32m     61\u001b[0m   \u001b[38;5;28;01mif\u001b[39;00m name \u001b[38;5;129;01mis\u001b[39;00m \u001b[38;5;129;01mnot\u001b[39;00m \u001b[38;5;28;01mNone\u001b[39;00m:\n",
      "\u001b[0;31mKeyboardInterrupt\u001b[0m: "
     ]
    }
   ],
   "source": [
    "dimension = 5\n",
    "total_birds = 5\n",
    "max_iterations = 3\n",
    "ssa = SSA_new(dimension=dimension, total_birds=total_birds, maximum_iterations=max_iterations)\n",
    "\n",
    "lower_bound = [0.0001, 1, 20, 20, 50]\n",
    "upper_bound = [0.01, 5, 50, 50, 100]\n",
    "\n",
    "population = ssa.initialize_populations(lower_bound=lower_bound, upper_bound=upper_bound)\n",
    "\n",
    "mse_vals_trial = []\n",
    "population_trials = []\n",
    "\n",
    "for i in range(max_iterations):\n",
    "    mse_vals = train_model(population)\n",
    "    print(\"===================== Iteration \" + str(i) + \" =========================\")\n",
    "    print(mse_vals)\n",
    "    mse_vals_trial.append(mse_vals)\n",
    "    population = get_new_population_reflect(ssa, population, mse_vals, lower_bound=lower_bound, upper_bound=upper_bound)\n",
    "    print(\"===================== New Population \" + \" =========================\")\n",
    "    print(population)\n",
    "    population_trials.append(population)"
   ]
  },
  {
   "cell_type": "markdown",
   "id": "62a20ce4",
   "metadata": {},
   "source": [
    "# Change the bounds"
   ]
  },
  {
   "cell_type": "code",
   "execution_count": 202,
   "id": "22ab979c",
   "metadata": {},
   "outputs": [
    {
     "name": "stdout",
     "output_type": "stream",
     "text": [
      "Inititializing parameters\n",
      "===================== Iteration 0 =========================\n",
      "Epoch 1/6\n",
      "250/250 [==============================] - 307s 1s/step - loss: 0.7200 - accuracy: 0.4961 - val_loss: 0.7003 - val_accuracy: 0.4963\n",
      "Epoch 2/6\n",
      "250/250 [==============================] - 289s 1s/step - loss: 0.6945 - accuracy: 0.5084 - val_loss: 0.6983 - val_accuracy: 0.5037\n",
      "Epoch 3/6\n",
      "250/250 [==============================] - 298s 1s/step - loss: 0.6966 - accuracy: 0.5005 - val_loss: 0.6986 - val_accuracy: 0.4963\n",
      "Epoch 4/6\n",
      "250/250 [==============================] - 312s 1s/step - loss: 0.6963 - accuracy: 0.5049 - val_loss: 0.6952 - val_accuracy: 0.4963\n",
      "Epoch 5/6\n",
      "250/250 [==============================] - 346s 1s/step - loss: 0.6967 - accuracy: 0.5035 - val_loss: 0.6976 - val_accuracy: 0.5037\n",
      "Epoch 6/6\n",
      "250/250 [==============================] - 355s 1s/step - loss: 0.6957 - accuracy: 0.5010 - val_loss: 0.6942 - val_accuracy: 0.5037\n",
      "Epoch 1/7\n",
      "250/250 [==============================] - 282s 1s/step - loss: 0.6369 - accuracy: 0.6043 - val_loss: 0.4067 - val_accuracy: 0.8185\n",
      "Epoch 2/7\n",
      "250/250 [==============================] - 277s 1s/step - loss: 0.3762 - accuracy: 0.8357 - val_loss: 0.3282 - val_accuracy: 0.8643\n",
      "Epoch 3/7\n",
      "250/250 [==============================] - 272s 1s/step - loss: 0.3217 - accuracy: 0.8639 - val_loss: 0.3164 - val_accuracy: 0.8659\n",
      "Epoch 4/7\n",
      "250/250 [==============================] - 283s 1s/step - loss: 0.2962 - accuracy: 0.8777 - val_loss: 0.2955 - val_accuracy: 0.8778\n",
      "Epoch 5/7\n",
      "250/250 [==============================] - 240s 960ms/step - loss: 0.2761 - accuracy: 0.8864 - val_loss: 0.2799 - val_accuracy: 0.8844\n",
      "Epoch 6/7\n",
      "250/250 [==============================] - 227s 910ms/step - loss: 0.2716 - accuracy: 0.8888 - val_loss: 0.2769 - val_accuracy: 0.8847\n",
      "Epoch 7/7\n",
      "250/250 [==============================] - 228s 910ms/step - loss: 0.2677 - accuracy: 0.8915 - val_loss: 0.2631 - val_accuracy: 0.8887\n",
      "Epoch 1/7\n",
      "250/250 [==============================] - 313s 1s/step - loss: 0.7152 - accuracy: 0.4995 - val_loss: 0.6980 - val_accuracy: 0.5037\n",
      "Epoch 2/7\n",
      "250/250 [==============================] - 302s 1s/step - loss: 0.6962 - accuracy: 0.5026 - val_loss: 0.6940 - val_accuracy: 0.5037\n",
      "Epoch 3/7\n",
      "250/250 [==============================] - 298s 1s/step - loss: 0.6978 - accuracy: 0.5018 - val_loss: 0.7096 - val_accuracy: 0.4963\n",
      "Epoch 4/7\n",
      "250/250 [==============================] - 297s 1s/step - loss: 0.6964 - accuracy: 0.4979 - val_loss: 0.6931 - val_accuracy: 0.5037\n",
      "Epoch 5/7\n",
      "250/250 [==============================] - 300s 1s/step - loss: 0.6950 - accuracy: 0.4973 - val_loss: 0.6933 - val_accuracy: 0.5037\n",
      "Epoch 6/7\n",
      "250/250 [==============================] - 297s 1s/step - loss: 0.6958 - accuracy: 0.4998 - val_loss: 0.6935 - val_accuracy: 0.5037\n",
      "Epoch 7/7\n",
      "250/250 [==============================] - 291s 1s/step - loss: 0.6970 - accuracy: 0.4961 - val_loss: 0.6945 - val_accuracy: 0.4963\n",
      "Epoch 1/4\n",
      "250/250 [==============================] - 460s 2s/step - loss: 0.7245 - accuracy: 0.5000 - val_loss: 0.6952 - val_accuracy: 0.4963\n",
      "Epoch 2/4\n",
      "250/250 [==============================] - 460s 2s/step - loss: 0.6992 - accuracy: 0.5018 - val_loss: 0.6978 - val_accuracy: 0.5037\n",
      "Epoch 3/4\n",
      "250/250 [==============================] - 459s 2s/step - loss: 0.6991 - accuracy: 0.5078 - val_loss: 0.6932 - val_accuracy: 0.5037\n",
      "Epoch 4/4\n",
      "250/250 [==============================] - 469s 2s/step - loss: 0.6999 - accuracy: 0.4964 - val_loss: 0.7133 - val_accuracy: 0.4963\n",
      "Epoch 1/3\n",
      "250/250 [==============================] - 376s 1s/step - loss: 0.7539 - accuracy: 0.5034 - val_loss: 0.6993 - val_accuracy: 0.5024\n",
      "Epoch 2/3\n",
      "250/250 [==============================] - 390s 2s/step - loss: 0.6993 - accuracy: 0.4990 - val_loss: 0.7022 - val_accuracy: 0.4962\n",
      "Epoch 3/3\n",
      "250/250 [==============================] - 396s 2s/step - loss: 0.6992 - accuracy: 0.5018 - val_loss: 0.6943 - val_accuracy: 0.5028\n",
      "Epoch 1/8\n",
      "250/250 [==============================] - 431s 2s/step - loss: 0.7253 - accuracy: 0.5015 - val_loss: 0.7085 - val_accuracy: 0.4963\n",
      "Epoch 2/8\n",
      "250/250 [==============================] - 436s 2s/step - loss: 0.6978 - accuracy: 0.5000 - val_loss: 0.6932 - val_accuracy: 0.5037\n",
      "Epoch 3/8\n",
      "250/250 [==============================] - 469s 2s/step - loss: 0.7007 - accuracy: 0.4952 - val_loss: 0.6933 - val_accuracy: 0.5037\n",
      "Epoch 4/8\n",
      "250/250 [==============================] - 438s 2s/step - loss: 0.7006 - accuracy: 0.5039 - val_loss: 0.6934 - val_accuracy: 0.4963\n",
      "Epoch 5/8\n",
      "250/250 [==============================] - 475s 2s/step - loss: 0.6998 - accuracy: 0.4968 - val_loss: 0.7455 - val_accuracy: 0.4963\n",
      "Epoch 6/8\n",
      "250/250 [==============================] - 437s 2s/step - loss: 0.7029 - accuracy: 0.4997 - val_loss: 0.6959 - val_accuracy: 0.5037\n",
      "Epoch 7/8\n",
      "250/250 [==============================] - 462s 2s/step - loss: 0.6984 - accuracy: 0.4976 - val_loss: 0.6941 - val_accuracy: 0.4963\n",
      "Epoch 8/8\n",
      "250/250 [==============================] - 448s 2s/step - loss: 0.6999 - accuracy: 0.5032 - val_loss: 0.6940 - val_accuracy: 0.4963\n",
      "Epoch 1/4\n",
      "250/250 [==============================] - 428s 2s/step - loss: 0.7266 - accuracy: 0.5004 - val_loss: 0.7066 - val_accuracy: 0.5037\n",
      "Epoch 2/4\n",
      "250/250 [==============================] - 402s 2s/step - loss: 0.6983 - accuracy: 0.5000 - val_loss: 0.6933 - val_accuracy: 0.4963\n",
      "Epoch 3/4\n",
      "250/250 [==============================] - 401s 2s/step - loss: 0.6993 - accuracy: 0.5023 - val_loss: 0.6931 - val_accuracy: 0.5037\n",
      "Epoch 4/4\n",
      "250/250 [==============================] - 415s 2s/step - loss: 0.7031 - accuracy: 0.4998 - val_loss: 0.6949 - val_accuracy: 0.5037\n",
      "Epoch 1/6\n",
      "250/250 [==============================] - 422s 2s/step - loss: 0.4974 - accuracy: 0.7562 - val_loss: 0.4049 - val_accuracy: 0.8311\n",
      "Epoch 2/6\n",
      "250/250 [==============================] - 422s 2s/step - loss: 0.3675 - accuracy: 0.8380 - val_loss: 0.3335 - val_accuracy: 0.8564\n",
      "Epoch 3/6\n",
      "250/250 [==============================] - 410s 2s/step - loss: 0.3191 - accuracy: 0.8630 - val_loss: 0.3188 - val_accuracy: 0.8675\n",
      "Epoch 4/6\n",
      "250/250 [==============================] - 410s 2s/step - loss: 0.2656 - accuracy: 0.8885 - val_loss: 0.3231 - val_accuracy: 0.8622\n",
      "Epoch 5/6\n",
      "250/250 [==============================] - 412s 2s/step - loss: 0.2128 - accuracy: 0.9138 - val_loss: 0.3700 - val_accuracy: 0.8500\n",
      "Epoch 6/6\n",
      "250/250 [==============================] - 414s 2s/step - loss: 0.1629 - accuracy: 0.9368 - val_loss: 0.3305 - val_accuracy: 0.8704\n",
      "Epoch 1/3\n",
      "250/250 [==============================] - 520s 2s/step - loss: 0.7156 - accuracy: 0.4996 - val_loss: 0.6987 - val_accuracy: 0.4963\n",
      "Epoch 2/3\n",
      "250/250 [==============================] - 522s 2s/step - loss: 0.6971 - accuracy: 0.5019 - val_loss: 0.6932 - val_accuracy: 0.4963\n",
      "Epoch 3/3\n",
      "250/250 [==============================] - 513s 2s/step - loss: 0.6997 - accuracy: 0.5025 - val_loss: 0.7000 - val_accuracy: 0.4963\n",
      "Epoch 1/8\n",
      "250/250 [==============================] - 316s 1s/step - loss: 0.5505 - accuracy: 0.7154 - val_loss: 0.4556 - val_accuracy: 0.7839\n",
      "Epoch 2/8\n",
      "250/250 [==============================] - 341s 1s/step - loss: 0.4303 - accuracy: 0.8027 - val_loss: 0.4007 - val_accuracy: 0.8204\n",
      "Epoch 3/8\n",
      "250/250 [==============================] - 333s 1s/step - loss: 0.3839 - accuracy: 0.8275 - val_loss: 0.3836 - val_accuracy: 0.8295\n",
      "Epoch 4/8\n",
      "250/250 [==============================] - 325s 1s/step - loss: 0.3544 - accuracy: 0.8423 - val_loss: 0.3790 - val_accuracy: 0.8334\n",
      "Epoch 5/8\n",
      "250/250 [==============================] - 327s 1s/step - loss: 0.3280 - accuracy: 0.8568 - val_loss: 0.4029 - val_accuracy: 0.8140\n",
      "Epoch 6/8\n",
      "250/250 [==============================] - 325s 1s/step - loss: 0.2988 - accuracy: 0.8729 - val_loss: 0.3958 - val_accuracy: 0.8250\n",
      "Epoch 7/8\n",
      "250/250 [==============================] - 320s 1s/step - loss: 0.2773 - accuracy: 0.8805 - val_loss: 0.3816 - val_accuracy: 0.8408\n",
      "Epoch 8/8\n",
      "250/250 [==============================] - 318s 1s/step - loss: 0.2507 - accuracy: 0.8954 - val_loss: 0.3936 - val_accuracy: 0.8326\n",
      "Minimum mse = 0.0818599622532408\n",
      "Populations corresponding to min mse = [1.48932411e-03 7.76326748e+00 1.61704644e+01 1.37588346e+01\n",
      " 9.61049500e+01]\n"
     ]
    },
    {
     "ename": "IndexError",
     "evalue": "invalid index to scalar variable.",
     "output_type": "error",
     "traceback": [
      "\u001b[0;31m---------------------------------------------------------------------------\u001b[0m",
      "\u001b[0;31mIndexError\u001b[0m                                Traceback (most recent call last)",
      "Cell \u001b[0;32mIn[202], line 24\u001b[0m\n\u001b[1;32m     22\u001b[0m min_mse_index\u001b[38;5;241m.\u001b[39mappend(min_index)\n\u001b[1;32m     23\u001b[0m \u001b[38;5;28mprint\u001b[39m(\u001b[38;5;124m\"\u001b[39m\u001b[38;5;124mPopulations corresponding to min mse = \u001b[39m\u001b[38;5;124m\"\u001b[39m \u001b[38;5;241m+\u001b[39m \u001b[38;5;28mstr\u001b[39m(population[min_index]))\n\u001b[0;32m---> 24\u001b[0m population \u001b[38;5;241m=\u001b[39m \u001b[43mget_new_population\u001b[49m\u001b[43m(\u001b[49m\u001b[43mssa\u001b[49m\u001b[43m,\u001b[49m\u001b[43m \u001b[49m\u001b[43mpopulation\u001b[49m\u001b[43m,\u001b[49m\u001b[43m \u001b[49m\u001b[43mmse_vals\u001b[49m\u001b[43m,\u001b[49m\u001b[43m \u001b[49m\u001b[43mlower_bound\u001b[49m\u001b[38;5;241;43m=\u001b[39;49m\u001b[43mlower_bound\u001b[49m\u001b[43m,\u001b[49m\u001b[43m \u001b[49m\u001b[43mupper_bound\u001b[49m\u001b[38;5;241;43m=\u001b[39;49m\u001b[43mupper_bound\u001b[49m\u001b[43m)\u001b[49m\n",
      "Cell \u001b[0;32mIn[171], line 2\u001b[0m, in \u001b[0;36mget_new_population\u001b[0;34m(ssa, population, mse, lower_bound, upper_bound)\u001b[0m\n\u001b[1;32m      1\u001b[0m \u001b[38;5;28;01mdef\u001b[39;00m \u001b[38;5;21mget_new_population\u001b[39m(ssa, population, mse, lower_bound, upper_bound):\n\u001b[0;32m----> 2\u001b[0m     producers, monitors, scroungers \u001b[38;5;241m=\u001b[39m \u001b[43mssa\u001b[49m\u001b[38;5;241;43m.\u001b[39;49m\u001b[43mcompare_mse_and_decide_updation\u001b[49m\u001b[43m(\u001b[49m\u001b[43mmse\u001b[49m\u001b[43m)\u001b[49m\n\u001b[1;32m      3\u001b[0m     best_bird, worst_bird \u001b[38;5;241m=\u001b[39m ssa\u001b[38;5;241m.\u001b[39mfind_best_worst_bird(population\u001b[38;5;241m=\u001b[39mpopulation, mse\u001b[38;5;241m=\u001b[39mmse)\n\u001b[1;32m      5\u001b[0m     \u001b[38;5;28;01mfor\u001b[39;00m producer \u001b[38;5;129;01min\u001b[39;00m producers:\n",
      "Cell \u001b[0;32mIn[159], line 38\u001b[0m, in \u001b[0;36mSSA_new.compare_mse_and_decide_updation\u001b[0;34m(self, mse)\u001b[0m\n\u001b[1;32m     36\u001b[0m bird_ranking \u001b[38;5;241m=\u001b[39m {}\n\u001b[1;32m     37\u001b[0m \u001b[38;5;28;01mfor\u001b[39;00m i \u001b[38;5;129;01min\u001b[39;00m \u001b[38;5;28mrange\u001b[39m(\u001b[38;5;28mlen\u001b[39m(mse)):\n\u001b[0;32m---> 38\u001b[0m     bird_ranking[i] \u001b[38;5;241m=\u001b[39m \u001b[43mmse\u001b[49m\u001b[43m[\u001b[49m\u001b[43mi\u001b[49m\u001b[43m]\u001b[49m\u001b[43m[\u001b[49m\u001b[38;5;241;43m0\u001b[39;49m\u001b[43m]\u001b[49m\n\u001b[1;32m     40\u001b[0m arranged_bird_ranking \u001b[38;5;241m=\u001b[39m \u001b[38;5;28mlist\u001b[39m(\u001b[38;5;28mdict\u001b[39m(\u001b[38;5;28msorted\u001b[39m(bird_ranking\u001b[38;5;241m.\u001b[39mitems(), key\u001b[38;5;241m=\u001b[39m\u001b[38;5;28;01mlambda\u001b[39;00m x:x[\u001b[38;5;241m1\u001b[39m]))\u001b[38;5;241m.\u001b[39mkeys())\n\u001b[1;32m     41\u001b[0m producers \u001b[38;5;241m=\u001b[39m arranged_bird_ranking[\u001b[38;5;241m0\u001b[39m:\u001b[38;5;241m2\u001b[39m]\n",
      "\u001b[0;31mIndexError\u001b[0m: invalid index to scalar variable."
     ]
    }
   ],
   "source": [
    "dimension = 5\n",
    "total_birds = 10\n",
    "max_iterations = 5\n",
    "ssa = SSA_new(dimension=dimension, total_birds=total_birds, maximum_iterations=max_iterations)\n",
    "\n",
    "lower_bound = [0.00001, 3, 10, 10, 50]\n",
    "upper_bound = [0.01, 10, 50, 50, 100]\n",
    "\n",
    "population = ssa.initialize_populations(lower_bound=lower_bound, upper_bound=upper_bound)\n",
    "\n",
    "mse_vals_trial = []\n",
    "min_mse_index = []\n",
    "population_trials = []\n",
    "\n",
    "for i in range(max_iterations):\n",
    "    print(\"===================== Iteration \" + str(i) + \" =========================\")\n",
    "    mse_vals = train_model(population)\n",
    "    mse_vals_trial.append(mse_vals)\n",
    "    population_trials.append(population)\n",
    "    print(\"Minimum mse = \" + str(min(mse_vals)))\n",
    "    min_index = mse_vals.index(min(mse_vals))\n",
    "    min_mse_index.append(min_index)\n",
    "    print(\"Populations corresponding to min mse = \" + str(population[min_index]))\n",
    "    population = get_new_population(ssa, population, mse_vals, lower_bound=lower_bound, upper_bound=upper_bound)"
   ]
  },
  {
   "cell_type": "code",
   "execution_count": 205,
   "id": "ff72a126",
   "metadata": {},
   "outputs": [
    {
     "data": {
      "text/plain": [
       "[0.2506100644000625,\n",
       " 0.0818599622532408,\n",
       " 0.2506278428574637,\n",
       " 0.25959280488673214,\n",
       " 0.25052548088351645,\n",
       " 0.2503549454063748,\n",
       " 0.2509638179982047,\n",
       " 0.10477642440087415,\n",
       " 0.25325840186648113,\n",
       " 0.12692405600532466]"
      ]
     },
     "execution_count": 205,
     "metadata": {},
     "output_type": "execute_result"
    }
   ],
   "source": [
    "mse_vals"
   ]
  },
  {
   "cell_type": "code",
   "execution_count": null,
   "id": "377fcdd3",
   "metadata": {},
   "outputs": [],
   "source": []
  }
 ],
 "metadata": {
  "kernelspec": {
   "display_name": "Python 3 (ipykernel)",
   "language": "python",
   "name": "python3"
  },
  "language_info": {
   "codemirror_mode": {
    "name": "ipython",
    "version": 3
   },
   "file_extension": ".py",
   "mimetype": "text/x-python",
   "name": "python",
   "nbconvert_exporter": "python",
   "pygments_lexer": "ipython3",
   "version": "3.8.15"
  }
 },
 "nbformat": 4,
 "nbformat_minor": 5
}
